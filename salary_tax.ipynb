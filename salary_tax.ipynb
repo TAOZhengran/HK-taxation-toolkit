{
 "cells": [
  {
   "cell_type": "markdown",
   "id": "94774b0c",
   "metadata": {},
   "source": [
    "#Chapter08\n",
    "01"
   ]
  },
  {
   "cell_type": "code",
   "execution_count": 2,
   "id": "9c467e60",
   "metadata": {},
   "outputs": [],
   "source": [
    "from enum import Enum\n",
    "\n",
    "class IncomeSource(Enum):\n",
    "    EMPLOYMENT = \"employment\"\n",
    "    INDEPENDENT_CONTRACTOR = \"independent_contractor\"\n",
    "    OFFICE = \"office\"\n",
    "    PENSION = \"pension\"\n",
    "    LUMP_SUM = \"lump_sum\"\n",
    "    UNKNOWN = \"unknown\"\n",
    "\n",
    "def classify_income(data: dict) -> IncomeSource:\n",
    "    if data.get(\"is_director\") is True:\n",
    "        return IncomeSource.OFFICE\n",
    "    if data.get(\"is_periodic_payment\") is True:\n",
    "        return IncomeSource.PENSION\n",
    "    if data.get(\"is_lump_sum\") is True:\n",
    "        return IncomeSource.LUMP_SUM\n",
    "    if data.get(\"contract_type\") == \"contract_for_service\":\n",
    "        return IncomeSource.INDEPENDENT_CONTRACTOR\n",
    "    if data.get(\"contract_type\") == \"contract_of_service\":\n",
    "        return IncomeSource.EMPLOYMENT\n",
    "    return IncomeSource.UNKNOWN\n"
   ]
  },
  {
   "cell_type": "markdown",
   "id": "a1cd393f",
   "metadata": {},
   "source": [
    "#Changeable_Fields01\n",
    "- contract_type: \"contract_of_service\" or \"contract_for_service\"\n",
    "- is_director: True / False\n",
    "- is_periodic_payment: True / False\n",
    "- is_lump_sum: True / False\n"
   ]
  },
  {
   "cell_type": "code",
   "execution_count": 3,
   "id": "1bde6f77",
   "metadata": {},
   "outputs": [
    {
     "data": {
      "text/plain": [
       "<IncomeSource.EMPLOYMENT: 'employment'>"
      ]
     },
     "execution_count": 3,
     "metadata": {},
     "output_type": "execute_result"
    }
   ],
   "source": [
    "sample_income = {\n",
    "    \"contract_type\": \"contract_of_service\",\n",
    "    \"is_director\": False,\n",
    "    \"is_periodic_payment\": False,\n",
    "    \"is_lump_sum\": False\n",
    "}\n",
    "\n",
    "classify_income(sample_income)\n"
   ]
  },
  {
   "cell_type": "markdown",
   "id": "12ebf300",
   "metadata": {},
   "source": [
    "02"
   ]
  },
  {
   "cell_type": "code",
   "execution_count": 4,
   "id": "5d890d52",
   "metadata": {},
   "outputs": [],
   "source": [
    "def is_hong_kong_employment(data: dict) -> dict:\n",
    "    contract_in_hk = data.get(\"contract_signed_in_hk\", False)\n",
    "    employer_resident_in_hk = data.get(\"employer_resident_in_hk\", False)\n",
    "    remuneration_paid_in_hk = data.get(\"remuneration_paid_in_hk\", False)\n",
    "\n",
    "    if contract_in_hk or employer_resident_in_hk or remuneration_paid_in_hk:\n",
    "        return {\n",
    "            \"hk_source\": True,\n",
    "            \"reason\": \"One of the DIPN 10 conditions is satisfied.\"\n",
    "        }\n",
    "\n",
    "    if data.get(\"remuneration_borne_by_hk_entity\", False):\n",
    "        return {\n",
    "            \"hk_source\": True,\n",
    "            \"reason\": \"Remuneration borne by HK entity (totality of facts).\"\n",
    "        }\n",
    "\n",
    "    return {\n",
    "        \"hk_source\": False,\n",
    "        \"reason\": \"No sufficient HK connection under DIPN 10 or totality of facts.\"\n",
    "    }\n"
   ]
  },
  {
   "cell_type": "markdown",
   "id": "384a98e5",
   "metadata": {},
   "source": [
    "#Changeable_Fields02\n",
    "- contract_signed_in_hk: True / False\n",
    "- employer_resident_in_hk: True / False\n",
    "- remuneration_paid_in_hk: True / False\n",
    "- remuneration_borne_by_hk_entity: True / False\n"
   ]
  },
  {
   "cell_type": "code",
   "execution_count": 5,
   "id": "688cc1a6",
   "metadata": {},
   "outputs": [
    {
     "data": {
      "text/plain": [
       "{'hk_source': True,\n",
       " 'reason': 'Remuneration borne by HK entity (totality of facts).'}"
      ]
     },
     "execution_count": 5,
     "metadata": {},
     "output_type": "execute_result"
    }
   ],
   "source": [
    "sample_employment = {\n",
    "    \"contract_signed_in_hk\": False,\n",
    "    \"employer_resident_in_hk\": False,\n",
    "    \"remuneration_paid_in_hk\": False,\n",
    "    \"remuneration_borne_by_hk_entity\": True\n",
    "}\n",
    "\n",
    "is_hong_kong_employment(sample_employment)\n"
   ]
  },
  {
   "cell_type": "markdown",
   "id": "58a7a14f",
   "metadata": {},
   "source": [
    "03"
   ]
  },
  {
   "cell_type": "markdown",
   "id": "78d0b399",
   "metadata": {},
   "source": [
    "#Changeable_Fields (in `employment_data`):\n",
    "- \"all_services_outside_hk\": True / False\n",
    "- \"is_visitor\": True / False\n",
    "- \"days_in_hk\": integer (0–365)\n",
    "- \"is_researcher_or_teacher\": True / False\n",
    "- \"is_dta_country\": True / False\n",
    "- \"foreign_tax_paid\": True / False"
   ]
  },
  {
   "cell_type": "code",
   "execution_count": 6,
   "id": "74cf4b15",
   "metadata": {},
   "outputs": [],
   "source": [
    "def check_hk_employment_taxability(data: dict) -> dict:\n",
    "    \"\"\"\n",
    "    Determine whether a Hong Kong-sourced employment is exempt from taxation, or fully chargeable to Salaries Tax.\n",
    "    \"\"\"\n",
    "\n",
    "\n",
    "    # Section 8(1A)(b)\n",
    "    if data.get(\"all_services_outside_hk\", False):\n",
    "        return {\n",
    "            \"taxable\": False,\n",
    "            \"reason\": \"Exempt under Section 8(1A)(b): all services rendered outside Hong Kong.\"\n",
    "        }\n",
    "\n",
    "    # Section 8(1B)\n",
    "    if data.get(\"is_visitor\", False) and data.get(\"days_in_hk\", 999) <= 60:\n",
    "        return {\n",
    "            \"taxable\": False,\n",
    "            \"reason\": \"Exempt under Section 8(1B): visitor present in Hong Kong for 60 days or less.\"\n",
    "        }\n",
    "\n",
    "    # Section 8(1AB)\n",
    "    if data.get(\"is_researcher_or_teacher\", False) and data.get(\"is_dta_country\", False) and data.get(\"foreign_tax_paid\", False):\n",
    "        return {\n",
    "            \"taxable\": False,\n",
    "            \"reason\": \"Exempt under Section 8(1AB): researcher/teacher in DTA country and foreign tax was paid.\"\n",
    "        }\n",
    "\n",
    "    # Default: Fully taxable\n",
    "    return {\n",
    "        \"taxable\": True,\n",
    "        \"reason\": \"Employment is sourced in Hong Kong and no exemption conditions are satisfied.\"\n",
    "    }\n"
   ]
  },
  {
   "cell_type": "code",
   "execution_count": 7,
   "id": "5b25828d",
   "metadata": {},
   "outputs": [
    {
     "data": {
      "text/plain": [
       "{'taxable': False,\n",
       " 'reason': 'Exempt under Section 8(1B): visitor present in Hong Kong for 60 days or less.'}"
      ]
     },
     "execution_count": 7,
     "metadata": {},
     "output_type": "execute_result"
    }
   ],
   "source": [
    "employment_data = {\n",
    "    \"all_services_outside_hk\": False,\n",
    "    \"is_visitor\": True,\n",
    "    \"days_in_hk\": 55,\n",
    "    \"is_researcher_or_teacher\": False,\n",
    "    \"is_dta_country\": False,\n",
    "    \"foreign_tax_paid\": False\n",
    "}\n",
    "\n",
    "check_hk_employment_taxability(employment_data)\n"
   ]
  },
  {
   "cell_type": "markdown",
   "id": "475acda0",
   "metadata": {},
   "source": [
    "04"
   ]
  },
  {
   "cell_type": "markdown",
   "id": "48e7f5bc",
   "metadata": {},
   "source": [
    "#Changeable_Fields (in `non_hk_employment_data`):\n",
    "- `total_service_days`: total working days during the period (int)\n",
    "- `hk_service_days`: working days physically in HK (int)\n",
    "- `income_amount`: total employment income (float)\n",
    "- `foreign_tax_paid`: True / False\n",
    "- `dta_country`: True / False"
   ]
  },
  {
   "cell_type": "code",
   "execution_count": 8,
   "id": "7ee13611",
   "metadata": {},
   "outputs": [],
   "source": [
    "def calculate_non_hk_employment_tax(data: dict) -> dict:\n",
    "    \"\"\"\n",
    "    Perform time apportionment for non-Hong Kong sourced employment and determine whether the income is exempt or eligible for tax relief.\n",
    "    \"\"\"\n",
    "\n",
    "\n",
    "    total_days = data.get(\"total_service_days\", 365)\n",
    "    hk_days = data.get(\"hk_service_days\", 0)\n",
    "    income = data.get(\"income_amount\", 0)\n",
    "\n",
    "    if total_days == 0:\n",
    "        return {\n",
    "            \"taxable\": False,\n",
    "            \"amount\": 0,\n",
    "            \"reason\": \"Invalid service days (0).\"\n",
    "        }\n",
    "\n",
    "    ratio = hk_days / total_days\n",
    "    taxable_amount = round(income * ratio, 2)\n",
    "\n",
    "    if data.get(\"foreign_tax_paid\", False):\n",
    "        if data.get(\"dta_country\", False):\n",
    "            return {\n",
    "                \"taxable\": True,\n",
    "                \"amount\": taxable_amount,\n",
    "                \"relief\": \"Tax credit available under Section 50 (DTA country).\",\n",
    "                \"reason\": f\"{ratio:.2%} of income is attributable to Hong Kong.\"\n",
    "            }\n",
    "        else:\n",
    "            return {\n",
    "                \"taxable\": False,\n",
    "                \"amount\": 0,\n",
    "                \"relief\": \"Excluded under Section 8(1A)(c): foreign tax paid, no DTA.\",\n",
    "                \"reason\": \"Income excluded as foreign tax was paid and no DTA exists.\"\n",
    "            }\n",
    "\n",
    "    return {\n",
    "        \"taxable\": True,\n",
    "        \"amount\": taxable_amount,\n",
    "        \"relief\": None,\n",
    "        \"reason\": f\"{ratio:.2%} of income is attributable to Hong Kong based on time apportionment.\"\n",
    "    }\n"
   ]
  },
  {
   "cell_type": "code",
   "execution_count": 9,
   "id": "e6fc2ef8",
   "metadata": {},
   "outputs": [
    {
     "data": {
      "text/plain": [
       "{'taxable': False,\n",
       " 'amount': 0,\n",
       " 'relief': 'Excluded under Section 8(1A)(c): foreign tax paid, no DTA.',\n",
       " 'reason': 'Income excluded as foreign tax was paid and no DTA exists.'}"
      ]
     },
     "execution_count": 9,
     "metadata": {},
     "output_type": "execute_result"
    }
   ],
   "source": [
    "non_hk_employment_data = {\n",
    "    \"total_service_days\": 300,\n",
    "    \"hk_service_days\": 90,\n",
    "    \"income_amount\": 600000,\n",
    "    \"foreign_tax_paid\": True,\n",
    "    \"dta_country\": False\n",
    "}\n",
    "\n",
    "calculate_non_hk_employment_tax(non_hk_employment_data)\n"
   ]
  },
  {
   "cell_type": "markdown",
   "id": "b0196a5a",
   "metadata": {},
   "source": [
    "05"
   ]
  },
  {
   "cell_type": "markdown",
   "id": "2b732b35",
   "metadata": {},
   "source": [
    "#Changeable_Fields (in `visitor_data`):\n",
    "- `days_in_hk_current_year`: int\n",
    "- `days_in_hk_last_year`: int\n",
    "- `is_aircrew_or_seafarer`: True / False\n",
    "- `is_mainland_resident`: True / False\n",
    "- `employer_is_mainland_entity`: True / False"
   ]
  },
  {
   "cell_type": "code",
   "execution_count": 10,
   "id": "126e8968",
   "metadata": {},
   "outputs": [],
   "source": [
    "def check_visitor_exemption(data: dict) -> dict:\n",
    "    \"\"\"\n",
    "    Determine whether exemption can be granted based on visitor status.\n",
    "    \"\"\"\n",
    "\n",
    "    current_year_days = data.get(\"days_in_hk_current_year\", 365)\n",
    "    last_year_days = data.get(\"days_in_hk_last_year\", 0)\n",
    "    total_days = current_year_days + last_year_days\n",
    "\n",
    "    # Section 8(1B)\n",
    "    if current_year_days <= 60:\n",
    "        return {\n",
    "            \"exempt\": True,\n",
    "            \"reason\": \"Exempt under Section 8(1B): visitor present in Hong Kong for no more than 60 days.\"\n",
    "        }\n",
    "\n",
    "    # Section 8(2)(j)\n",
    "    if data.get(\"is_aircrew_or_seafarer\", False) and current_year_days <= 60 and total_days <= 120:\n",
    "        return {\n",
    "            \"exempt\": True,\n",
    "            \"reason\": \"Exempt under Section 8(2)(j): seafarer/aircrew within 60+120 day limit.\"\n",
    "        }\n",
    "\n",
    "    # Mainland DTA 183-day rule\n",
    "    if data.get(\"is_mainland_resident\", False) and data.get(\"employer_is_mainland_entity\", False) and current_year_days <= 183:\n",
    "        return {\n",
    "            \"exempt\": True,\n",
    "            \"reason\": \"Exempt under PRC-HK DTA: mainland resident working for mainland entity, ≤183 days in HK.\"\n",
    "        }\n",
    "\n",
    "    return {\n",
    "        \"exempt\": False,\n",
    "        \"reason\": \"Visitor exemption does not apply under current facts.\"\n",
    "    }\n"
   ]
  },
  {
   "cell_type": "code",
   "execution_count": 11,
   "id": "b348be50",
   "metadata": {},
   "outputs": [
    {
     "data": {
      "text/plain": [
       "{'exempt': True,\n",
       " 'reason': 'Exempt under Section 8(1B): visitor present in Hong Kong for no more than 60 days.'}"
      ]
     },
     "execution_count": 11,
     "metadata": {},
     "output_type": "execute_result"
    }
   ],
   "source": [
    "visitor_data = {\n",
    "    \"days_in_hk_current_year\": 59,\n",
    "    \"days_in_hk_last_year\": 50,\n",
    "    \"is_aircrew_or_seafarer\": False,\n",
    "    \"is_mainland_resident\": False,\n",
    "    \"employer_is_mainland_entity\": False\n",
    "}\n",
    "\n",
    "check_visitor_exemption(visitor_data)\n"
   ]
  },
  {
   "cell_type": "markdown",
   "id": "572a533d",
   "metadata": {},
   "source": [
    "06"
   ]
  },
  {
   "cell_type": "markdown",
   "id": "4619b08d",
   "metadata": {},
   "source": [
    "#Changeable_Fields (in `office_income_data`):\n",
    "- `central_management_location`: \"Hong Kong\", \"Mainland\", \"Singapore\", etc."
   ]
  },
  {
   "cell_type": "code",
   "execution_count": 12,
   "id": "1b5bd0d4",
   "metadata": {},
   "outputs": [],
   "source": [
    "def is_office_income_sourced_in_hk(data: dict) -> dict:\n",
    "    \"\"\"\n",
    "    Determine whether directors’ fees or office-holder income are sourced in Hong Kong.\n",
    "    \"\"\"\n",
    "\n",
    "\n",
    "    location = data.get(\"central_management_location\", \"\").lower()\n",
    "\n",
    "    if location == \"hong kong\":\n",
    "        return {\n",
    "            \"hk_source\": True,\n",
    "            \"reason\": \"Company is centrally managed and controlled in Hong Kong.\"\n",
    "        }\n",
    "    elif location:\n",
    "        return {\n",
    "            \"hk_source\": False,\n",
    "            \"reason\": f\"Company's central management and control is located in {location.title()}.\"\n",
    "        }\n",
    "    else:\n",
    "        return {\n",
    "            \"hk_source\": False,\n",
    "            \"reason\": \"Central management location not specified.\"\n",
    "        }\n"
   ]
  },
  {
   "cell_type": "code",
   "execution_count": 13,
   "id": "3eca2f1b",
   "metadata": {},
   "outputs": [
    {
     "data": {
      "text/plain": [
       "{'hk_source': True,\n",
       " 'reason': 'Company is centrally managed and controlled in Hong Kong.'}"
      ]
     },
     "execution_count": 13,
     "metadata": {},
     "output_type": "execute_result"
    }
   ],
   "source": [
    "office_income_data = {\n",
    "    \"central_management_location\": \"Hong Kong\"\n",
    "}\n",
    "\n",
    "is_office_income_sourced_in_hk(office_income_data)\n"
   ]
  },
  {
   "cell_type": "markdown",
   "id": "d5636d24",
   "metadata": {},
   "source": [
    "07"
   ]
  },
  {
   "cell_type": "markdown",
   "id": "7e69edca",
   "metadata": {},
   "source": [
    "#Changeable_Fields (in `pension_data`):\n",
    "- `pension_fund_location`: \"Hong Kong\", \"UK\", etc.\n",
    "- `total_service_years`: int\n",
    "- `hk_service_years`: int\n",
    "- `pension_amount`: float"
   ]
  },
  {
   "cell_type": "code",
   "execution_count": 14,
   "id": "a20b3742",
   "metadata": {},
   "outputs": [],
   "source": [
    "def calculate_taxable_pension(data: dict) -> dict:\n",
    "    \"\"\"\n",
    "    Determine whether the pension is sourced in Hong Kong and calculate the chargeable amount based on the proportion of years of service.\n",
    "    \"\"\"\n",
    "\n",
    "\n",
    "    location = data.get(\"pension_fund_location\", \"\").lower()\n",
    "    if location != \"hong kong\":\n",
    "        return {\n",
    "            \"taxable\": False,\n",
    "            \"amount\": 0,\n",
    "            \"reason\": f\"Pension fund is managed outside Hong Kong ({location.title()}).\"\n",
    "        }\n",
    "\n",
    "    total_years = data.get(\"total_service_years\", 1)\n",
    "    hk_years = data.get(\"hk_service_years\", 0)\n",
    "    pension = data.get(\"pension_amount\", 0)\n",
    "\n",
    "    if total_years <= 0:\n",
    "        return {\n",
    "            \"taxable\": False,\n",
    "            \"amount\": 0,\n",
    "            \"reason\": \"Invalid total service years.\"\n",
    "        }\n",
    "\n",
    "    ratio = hk_years / total_years\n",
    "    taxable_amount = round(pension * ratio, 2)\n",
    "\n",
    "    return {\n",
    "        \"taxable\": True,\n",
    "        \"amount\": taxable_amount,\n",
    "        \"reason\": f\"{ratio:.2%} of pension is attributable to Hong Kong services.\"\n",
    "    }\n"
   ]
  },
  {
   "cell_type": "code",
   "execution_count": 15,
   "id": "814d3535",
   "metadata": {},
   "outputs": [
    {
     "data": {
      "text/plain": [
       "{'taxable': True,\n",
       " 'amount': 180000.0,\n",
       " 'reason': '60.00% of pension is attributable to Hong Kong services.'}"
      ]
     },
     "execution_count": 15,
     "metadata": {},
     "output_type": "execute_result"
    }
   ],
   "source": [
    "pension_data = {\n",
    "    \"pension_fund_location\": \"Hong Kong\",\n",
    "    \"total_service_years\": 30,\n",
    "    \"hk_service_years\": 18,\n",
    "    \"pension_amount\": 300000\n",
    "}\n",
    "\n",
    "calculate_taxable_pension(pension_data)\n"
   ]
  },
  {
   "cell_type": "markdown",
   "id": "e5457e64",
   "metadata": {},
   "source": [
    "08"
   ]
  },
  {
   "cell_type": "markdown",
   "id": "0c1ae1ee",
   "metadata": {},
   "source": [
    "#Changeable_Fields (in `relief_data`):\n",
    "- `foreign_tax_paid`: True / False\n",
    "- `has_dta`: True / False\n",
    "- `hk_tax_amount`: float\n",
    "- `foreign_tax_amount`: float"
   ]
  },
  {
   "cell_type": "code",
   "execution_count": 16,
   "id": "f6cb4818",
   "metadata": {},
   "outputs": [],
   "source": [
    "def apply_foreign_tax_relief(data: dict) -> dict:\n",
    "    \"\"\"\n",
    "    Determine whether foreign tax relief is available.\n",
    "    \"\"\"\n",
    "\n",
    "\n",
    "    if not data.get(\"foreign_tax_paid\", False):\n",
    "        return {\n",
    "            \"relief\": None,\n",
    "            \"taxable\": True,\n",
    "            \"net_tax\": data.get(\"hk_tax_amount\", 0),\n",
    "            \"reason\": \"No foreign tax paid. Full HK tax applies.\"\n",
    "        }\n",
    "\n",
    "    if not data.get(\"has_dta\", False):\n",
    "        return {\n",
    "            \"relief\": \"income exclusion\",\n",
    "            \"taxable\": False,\n",
    "            \"net_tax\": 0,\n",
    "            \"reason\": \"Foreign tax paid in a non-DTA country. Income excluded under Section 8(1A)(c).\"\n",
    "        }\n",
    "\n",
    "    # If DTA exists, apply tax credit\n",
    "    hk_tax = data.get(\"hk_tax_amount\", 0)\n",
    "    foreign_tax = data.get(\"foreign_tax_amount\", 0)\n",
    "    credit = min(hk_tax, foreign_tax)\n",
    "    net_tax = max(0, hk_tax - credit)\n",
    "\n",
    "    return {\n",
    "        \"relief\": \"tax credit\",\n",
    "        \"taxable\": True,\n",
    "        \"net_tax\": net_tax,\n",
    "        \"reason\": f\"Tax credit of {credit} applied under Section 50. Net HK tax: {net_tax}.\"\n",
    "    }\n"
   ]
  },
  {
   "cell_type": "code",
   "execution_count": 17,
   "id": "46a269a0",
   "metadata": {},
   "outputs": [
    {
     "data": {
      "text/plain": [
       "{'relief': 'tax credit',\n",
       " 'taxable': True,\n",
       " 'net_tax': 7000,\n",
       " 'reason': 'Tax credit of 18000 applied under Section 50. Net HK tax: 7000.'}"
      ]
     },
     "execution_count": 17,
     "metadata": {},
     "output_type": "execute_result"
    }
   ],
   "source": [
    "relief_data = {\n",
    "    \"foreign_tax_paid\": True,\n",
    "    \"has_dta\": True,\n",
    "    \"hk_tax_amount\": 25000,\n",
    "    \"foreign_tax_amount\": 18000\n",
    "}\n",
    "\n",
    "apply_foreign_tax_relief(relief_data)\n"
   ]
  },
  {
   "cell_type": "markdown",
   "id": "d8a1c1ab",
   "metadata": {},
   "source": [
    "#Chapter09\n",
    "01"
   ]
  },
  {
   "cell_type": "markdown",
   "id": "3c2e18c4",
   "metadata": {},
   "source": [
    "#Changeable_Fields (in `general_income_items`):\n",
    "Each income item should be a dictionary with:\n",
    "- `type`: a keyword string representing the type of income  \n",
    "  Valid taxable types include:\n",
    "  - \"salary\"\n",
    "  - \"bonus\"\n",
    "  - \"commission\"\n",
    "  - \"gratuity\"\n",
    "  - \"leave_pay\"\n",
    "  - \"allowance\"\n",
    "  - \"perquisite\"\n",
    "  - \"holiday_benefit\"\n",
    "  - \"education_benefit\"\n",
    "- `amount`: a number indicating the HKD amount"
   ]
  },
  {
   "cell_type": "code",
   "execution_count": 18,
   "id": "5211ef2f",
   "metadata": {},
   "outputs": [],
   "source": [
    "def assess_general_income(income_items: list) -> dict:\n",
    "    \"\"\"\n",
    "    Evaluate and summarize general remuneration items under Section 9(1).\n",
    "    \"\"\"\n",
    "\n",
    "\n",
    "    chargeable_types = {\n",
    "        \"salary\", \"bonus\", \"commission\", \"gratuity\", \"leave_pay\", \"allowance\",\n",
    "        \"perquisite\", \"holiday_benefit\", \"education_benefit\"\n",
    "    }\n",
    "\n",
    "    total_taxable = 0\n",
    "    details = []\n",
    "\n",
    "    for item in income_items:\n",
    "        item_type = item.get(\"type\", \"\").lower()\n",
    "        amount = item.get(\"amount\", 0)\n",
    "\n",
    "        if item_type in chargeable_types:\n",
    "            total_taxable += amount\n",
    "            details.append(f\"{item_type}: HKD {amount} (chargeable)\")\n",
    "        else:\n",
    "            details.append(f\"{item_type}: HKD {amount} (not chargeable by S9(1))\")\n",
    "\n",
    "    return {\n",
    "        \"taxable_amount\": total_taxable,\n",
    "        \"breakdown\": details\n",
    "    }\n"
   ]
  },
  {
   "cell_type": "code",
   "execution_count": 19,
   "id": "209d8915",
   "metadata": {},
   "outputs": [
    {
     "data": {
      "text/plain": [
       "{'taxable_amount': 480000,\n",
       " 'breakdown': ['salary: HKD 400000 (chargeable)',\n",
       "  'bonus: HKD 50000 (chargeable)',\n",
       "  'education_benefit: HKD 30000 (chargeable)',\n",
       "  'transport_subsidy: HKD 10000 (not chargeable by S9(1))']}"
      ]
     },
     "execution_count": 19,
     "metadata": {},
     "output_type": "execute_result"
    }
   ],
   "source": [
    "general_income_items = [\n",
    "    {\"type\": \"salary\", \"amount\": 400000},\n",
    "    {\"type\": \"bonus\", \"amount\": 50000},\n",
    "    {\"type\": \"education_benefit\", \"amount\": 30000},\n",
    "    {\"type\": \"transport_subsidy\", \"amount\": 10000}  # 假设未列于 S9(1)\n",
    "]\n",
    "\n",
    "assess_general_income(general_income_items)\n"
   ]
  },
  {
   "cell_type": "markdown",
   "id": "65f5f252",
   "metadata": {},
   "source": [
    "02"
   ]
  },
  {
   "cell_type": "markdown",
   "id": "108276f5",
   "metadata": {},
   "source": [
    "#Changeable_Fields (in `lump_sum_data`):\n",
    "- `amount`: float – total lump sum received\n",
    "- `is_contractual`: True / False\n",
    "- `is_reward_for_service`: True / False\n",
    "- `is_loss_of_office`: True / False\n"
   ]
  },
  {
   "cell_type": "code",
   "execution_count": 20,
   "id": "c128af6f",
   "metadata": {},
   "outputs": [],
   "source": [
    "def assess_lump_sum_income(data: dict) -> dict:\n",
    "    \"\"\"\n",
    "    Determine whether a lump-sum payment is chargeable to tax.\n",
    "    \"\"\"\n",
    "\n",
    "\n",
    "    amount = data.get(\"amount\", 0)\n",
    "    is_contractual = data.get(\"is_contractual\", False)\n",
    "    is_reward = data.get(\"is_reward_for_service\", False)\n",
    "    is_loss_of_office = data.get(\"is_loss_of_office\", False)\n",
    "\n",
    "    if is_contractual:\n",
    "        return {\n",
    "            \"taxable\": True,\n",
    "            \"taxable_amount\": amount,\n",
    "            \"reason\": \"Taxable under Section 9 as it is contractually stipulated.\"\n",
    "        }\n",
    "\n",
    "    if is_reward:\n",
    "        return {\n",
    "            \"taxable\": True,\n",
    "            \"taxable_amount\": amount,\n",
    "            \"reason\": \"Taxable under Section 9 as it is a reward for past/present/future service.\"\n",
    "        }\n",
    "\n",
    "    if is_loss_of_office:\n",
    "        return {\n",
    "            \"taxable\": False,\n",
    "            \"taxable_amount\": 0,\n",
    "            \"reason\": \"Exempt – payment is compensation for loss of office (not employment income).\"\n",
    "        }\n",
    "\n",
    "    return {\n",
    "        \"taxable\": False,\n",
    "        \"taxable_amount\": 0,\n",
    "        \"reason\": \"Payment does not fall under contractual or service-related category; treated as non-taxable by default.\"\n",
    "    }"
   ]
  },
  {
   "cell_type": "code",
   "execution_count": 21,
   "id": "a8431528",
   "metadata": {},
   "outputs": [
    {
     "data": {
      "text/plain": [
       "{'taxable': False,\n",
       " 'taxable_amount': 0,\n",
       " 'reason': 'Exempt – payment is compensation for loss of office (not employment income).'}"
      ]
     },
     "execution_count": 21,
     "metadata": {},
     "output_type": "execute_result"
    }
   ],
   "source": [
    "lump_sum_data = {\n",
    "    \"amount\": 300000,\n",
    "    \"is_contractual\": False,\n",
    "    \"is_reward_for_service\": False,\n",
    "    \"is_loss_of_office\": True\n",
    "}\n",
    "\n",
    "assess_lump_sum_income(lump_sum_data)\n"
   ]
  },
  {
   "cell_type": "markdown",
   "id": "988e7d6b",
   "metadata": {},
   "source": [
    "03"
   ]
  },
  {
   "cell_type": "markdown",
   "id": "d803cd94",
   "metadata": {},
   "source": [
    "#Changeable_Fields (in `housing_data`):\n",
    "- `employment_income`: float – total income from employer\n",
    "- `housing_type`: \"flat\", \"hotel_1_room\", \"hotel_suite\"\n",
    "- `employee_paid_rent`: float\n",
    "- `refund_to_employer`: float"
   ]
  },
  {
   "cell_type": "code",
   "execution_count": 22,
   "id": "cf3840c5",
   "metadata": {},
   "outputs": [],
   "source": [
    "def calculate_housing_benefit(data: dict) -> dict:\n",
    "    \"\"\"\n",
    "    Calculate the Notional Rental Value (NRV) and apply applicable deductions.\n",
    "    \"\"\"\n",
    "\n",
    "\n",
    "    income = data.get(\"employment_income\", 0)\n",
    "    housing_type = data.get(\"housing_type\", \"flat\")\n",
    "    paid_rent = data.get(\"employee_paid_rent\", 0)\n",
    "    refund = data.get(\"refund_to_employer\", 0)\n",
    "\n",
    "    rate_dict = {\n",
    "        \"flat\": 0.10,\n",
    "        \"hotel_1_room\": 0.04,\n",
    "        \"hotel_suite\": 0.08\n",
    "    }\n",
    "\n",
    "    rate = rate_dict.get(housing_type, 0.10)\n",
    "    base_nrv = round(income * rate, 2)\n",
    "    deduction = min(paid_rent, refund)\n",
    "    final_taxable = max(0, base_nrv - deduction)\n",
    "\n",
    "    return {\n",
    "        \"taxable\": True,\n",
    "        \"taxable_amount\": final_taxable,\n",
    "        \"base_nrv\": base_nrv,\n",
    "        \"deducted\": deduction,\n",
    "        \"reason\": f\"NRV = {rate*100:.0f}% of income ({base_nrv}) - deduction ({deduction}) = {final_taxable}\"\n",
    "    }\n"
   ]
  },
  {
   "cell_type": "code",
   "execution_count": 23,
   "id": "060b3f32",
   "metadata": {},
   "outputs": [
    {
     "data": {
      "text/plain": [
       "{'taxable': True,\n",
       " 'taxable_amount': 45000.0,\n",
       " 'base_nrv': 60000.0,\n",
       " 'deducted': 15000,\n",
       " 'reason': 'NRV = 10% of income (60000.0) - deduction (15000) = 45000.0'}"
      ]
     },
     "execution_count": 23,
     "metadata": {},
     "output_type": "execute_result"
    }
   ],
   "source": [
    "housing_data = {\n",
    "    \"employment_income\": 600000,\n",
    "    \"housing_type\": \"flat\",\n",
    "    \"employee_paid_rent\": 20000,\n",
    "    \"refund_to_employer\": 15000\n",
    "}\n",
    "\n",
    "calculate_housing_benefit(housing_data)\n"
   ]
  },
  {
   "cell_type": "markdown",
   "id": "62a18efd",
   "metadata": {},
   "source": [
    "04"
   ]
  },
  {
   "cell_type": "markdown",
   "id": "9c6da620",
   "metadata": {},
   "source": [
    "#Changeable_Fields (in `option_data`):\n",
    "- `exercise_type`: \"exercise\", \"assignment\", \"release\"\n",
    "- `market_value`: float – value of share on trigger event date\n",
    "- `exercise_price`: float – strike price of option\n",
    "- `option_cost`: float – any payment made to acquire the option\n",
    "- `use_apportionment`: True / False\n",
    "- `total_service_months`: int – vesting period\n",
    "- `hk_service_months`: int – months of Hong Kong-related service\n"
   ]
  },
  {
   "cell_type": "code",
   "execution_count": 24,
   "id": "296f2088",
   "metadata": {},
   "outputs": [],
   "source": [
    "def calculate_share_option_gain(data: dict) -> dict:\n",
    "    \"\"\"\n",
    "    Calculate the taxable gain from stock options based on the type of exercise and whether the gain is apportioned.\n",
    "    \"\"\"\n",
    "\n",
    "\n",
    "    mv = data.get(\"market_value\", 0)\n",
    "    ep = data.get(\"exercise_price\", 0)\n",
    "    cost = data.get(\"option_cost\", 0)\n",
    "    exercise_type = data.get(\"exercise_type\", \"exercise\")\n",
    "    apportion = data.get(\"use_apportionment\", False)\n",
    "    total_months = data.get(\"total_service_months\", 1)\n",
    "    hk_months = data.get(\"hk_service_months\", 0)\n",
    "\n",
    "    if exercise_type == \"exercise\":\n",
    "        gain = mv - ep - cost\n",
    "    elif exercise_type in {\"assignment\", \"release\"}:\n",
    "        gain = mv - cost\n",
    "    else:\n",
    "        return {\n",
    "            \"taxable\": False,\n",
    "            \"reason\": \"Invalid exercise type. Must be exercise, assignment, or release.\"\n",
    "        }\n",
    "\n",
    "    gain = round(max(gain, 0), 2)\n",
    "\n",
    "    if apportion and total_months > 0:\n",
    "        ratio = hk_months / total_months\n",
    "        taxable_gain = round(gain * ratio, 2)\n",
    "        reason = f\"Apportioned: {ratio:.2%} of gain is taxable = {taxable_gain}.\"\n",
    "    else:\n",
    "        taxable_gain = gain\n",
    "        reason = f\"Full gain is taxable: {gain}.\"\n",
    "\n",
    "    return {\n",
    "        \"taxable\": True,\n",
    "        \"taxable_amount\": taxable_gain,\n",
    "        \"gain_before_apportionment\": gain,\n",
    "        \"reason\": reason\n",
    "    }\n"
   ]
  },
  {
   "cell_type": "code",
   "execution_count": 25,
   "id": "8f1b8305",
   "metadata": {},
   "outputs": [
    {
     "data": {
      "text/plain": [
       "{'taxable': True,\n",
       " 'taxable_amount': 22.5,\n",
       " 'gain_before_apportionment': 45,\n",
       " 'reason': 'Apportioned: 50.00% of gain is taxable = 22.5.'}"
      ]
     },
     "execution_count": 25,
     "metadata": {},
     "output_type": "execute_result"
    }
   ],
   "source": [
    "option_data = {\n",
    "    \"exercise_type\": \"exercise\",\n",
    "    \"market_value\": 150,\n",
    "    \"exercise_price\": 100,\n",
    "    \"option_cost\": 5,\n",
    "    \"use_apportionment\": True,\n",
    "    \"total_service_months\": 24,\n",
    "    \"hk_service_months\": 12\n",
    "}\n",
    "\n",
    "calculate_share_option_gain(option_data)\n"
   ]
  },
  {
   "cell_type": "markdown",
   "id": "4f3b4045",
   "metadata": {},
   "source": [
    "05"
   ]
  },
  {
   "cell_type": "markdown",
   "id": "12899d63",
   "metadata": {},
   "source": [
    "#Changeable Fields (in `award_data`):\n",
    "- `award_type`: \"upfront\", \"backend\", or \"phantom\"\n",
    "- `market_value`: float – value of shares awarded\n",
    "- `vesting_years`: int (used only for upfront awards, default 5)\n",
    "- `years_elapsed`: int – how many years completed (used for upfront)"
   ]
  },
  {
   "cell_type": "code",
   "execution_count": 26,
   "id": "033600b3",
   "metadata": {},
   "outputs": [],
   "source": [
    "def calculate_share_award_tax(data: dict) -> dict:\n",
    "    \"\"\"\n",
    "    Determine the taxable amount of share awards based on the type of award and the length of service.\n",
    "    \"\"\"\n",
    "\n",
    "\n",
    "    award_type = data.get(\"award_type\", \"backend\")\n",
    "    mv = data.get(\"market_value\", 0)\n",
    "    vesting_years = data.get(\"vesting_years\", 5)\n",
    "    years_elapsed = data.get(\"years_elapsed\", vesting_years)\n",
    "\n",
    "    if award_type == \"phantom\":\n",
    "        return {\n",
    "            \"taxable\": True,\n",
    "            \"taxable_amount\": mv,\n",
    "            \"reason\": \"Phantom share is fully taxable as cash bonus equivalent.\"\n",
    "        }\n",
    "\n",
    "    elif award_type == \"backend\":\n",
    "        return {\n",
    "            \"taxable\": True,\n",
    "            \"taxable_amount\": mv,\n",
    "            \"reason\": \"Backend share is fully taxable upon grant (vesting condition met).\"\n",
    "        }\n",
    "\n",
    "    elif award_type == \"upfront\":\n",
    "        if vesting_years <= 0:\n",
    "            return {\"taxable\": False, \"taxable_amount\": 0, \"reason\": \"Invalid vesting period.\"}\n",
    "        portion = min(years_elapsed / vesting_years, 1)\n",
    "        taxable = round(mv * portion, 2)\n",
    "        return {\n",
    "            \"taxable\": True,\n",
    "            \"taxable_amount\": taxable,\n",
    "            \"reason\": f\"Upfront share apportioned: {portion:.0%} of value taxable = {taxable}.\"\n",
    "        }\n",
    "\n",
    "    else:\n",
    "        return {\"taxable\": False, \"taxable_amount\": 0, \"reason\": \"Invalid award type.\"}\n"
   ]
  },
  {
   "cell_type": "code",
   "execution_count": 27,
   "id": "3444301b",
   "metadata": {},
   "outputs": [
    {
     "data": {
      "text/plain": [
       "{'taxable': True,\n",
       " 'taxable_amount': 60000.0,\n",
       " 'reason': 'Upfront share apportioned: 60% of value taxable = 60000.0.'}"
      ]
     },
     "execution_count": 27,
     "metadata": {},
     "output_type": "execute_result"
    }
   ],
   "source": [
    "award_data = {\n",
    "    \"award_type\": \"upfront\",\n",
    "    \"market_value\": 100000,\n",
    "    \"vesting_years\": 5,\n",
    "    \"years_elapsed\": 3\n",
    "}\n",
    "\n",
    "calculate_share_award_tax(award_data)\n"
   ]
  },
  {
   "cell_type": "markdown",
   "id": "bd87d16c",
   "metadata": {},
   "source": [
    "06"
   ]
  },
  {
   "cell_type": "markdown",
   "id": "1a26b11d",
   "metadata": {},
   "source": [
    "#Changeable_Fields (in `pension_data`):\n",
    "- `amount`: float – total retirement payment received\n",
    "- `is_rors`: True / False – is it from a Recognized Occupational Retirement Scheme?\n",
    "- `qualifies_for_exemption`: True / False – due to retirement, death, or disability?\n",
    "- `employer_contribution_ratio`: float – e.g. 0.15 for 15%"
   ]
  },
  {
   "cell_type": "code",
   "execution_count": 28,
   "id": "8dfaee40",
   "metadata": {},
   "outputs": [],
   "source": [
    "def assess_retirement_payment(data: dict) -> dict:\n",
    "    \"\"\"\n",
    "    Determine whether retirement income is subject to tax.\n",
    "    \"\"\"\n",
    "\n",
    "\n",
    "    amount = data.get(\"amount\", 0)\n",
    "    is_rors = data.get(\"is_rors\", False)\n",
    "    qualifies = data.get(\"qualifies_for_exemption\", False)\n",
    "    employer_ratio = data.get(\"employer_contribution_ratio\", 0.0)\n",
    "\n",
    "    if is_rors and qualifies:\n",
    "        return {\n",
    "            \"taxable\": False,\n",
    "            \"taxable_amount\": 0,\n",
    "            \"reason\": \"Exempt – received from RORS upon retirement/death/disability.\"\n",
    "        }\n",
    "\n",
    "    if is_rors and not qualifies:\n",
    "        if employer_ratio <= 0.15:\n",
    "            return {\n",
    "                \"taxable\": False,\n",
    "                \"taxable_amount\": 0,\n",
    "                \"reason\": \"RORS but non-qualifying, and employer contribution within 15% – no taxable portion.\"\n",
    "            }\n",
    "        else:\n",
    "            excess_ratio = employer_ratio - 0.15\n",
    "            taxable = round(amount * excess_ratio, 2)\n",
    "            return {\n",
    "                \"taxable\": True,\n",
    "                \"taxable_amount\": taxable,\n",
    "                \"reason\": f\"Non-qualifying RORS: employer contribution exceeded 15%. Taxable portion = {excess_ratio:.0%} of total = {taxable}.\"\n",
    "            }\n",
    "\n",
    "    return {\n",
    "        \"taxable\": True,\n",
    "        \"taxable_amount\": amount,\n",
    "        \"reason\": \"Non-RORS retirement payment is fully taxable under S9(1)(aa).\"\n",
    "    }\n"
   ]
  },
  {
   "cell_type": "code",
   "execution_count": 29,
   "id": "686e5a46",
   "metadata": {},
   "outputs": [
    {
     "data": {
      "text/plain": [
       "{'taxable': True,\n",
       " 'taxable_amount': 21000.0,\n",
       " 'reason': 'Non-qualifying RORS: employer contribution exceeded 15%. Taxable portion = 7% of total = 21000.0.'}"
      ]
     },
     "execution_count": 29,
     "metadata": {},
     "output_type": "execute_result"
    }
   ],
   "source": [
    "pension_data = {\n",
    "    \"amount\": 300000,\n",
    "    \"is_rors\": True,\n",
    "    \"qualifies_for_exemption\": False,\n",
    "    \"employer_contribution_ratio\": 0.22\n",
    "}\n",
    "\n",
    "assess_retirement_payment(pension_data)\n"
   ]
  },
  {
   "cell_type": "markdown",
   "id": "c4abb3f3",
   "metadata": {},
   "source": [
    "07"
   ]
  },
  {
   "cell_type": "markdown",
   "id": "b6e11be1",
   "metadata": {},
   "source": [
    "#Changeable_Fields (in `benefit_data`):\n",
    "- `benefit_type`: e.g. \"education\", \"vacation\", \"debt_payment\", \"gift\"\n",
    "- `benefit_value`: float\n",
    "- `liability_test`: True / False – Is this the employee’s original liability?\n",
    "- `convertibility_test`: True / False – Can it be converted to cash?"
   ]
  },
  {
   "cell_type": "code",
   "execution_count": 30,
   "id": "018727df",
   "metadata": {},
   "outputs": [],
   "source": [
    "def assess_fringe_benefit(data: dict) -> dict:\n",
    "    \"\"\"\n",
    "    Determine whether a fringe benefit is subject to tax.\n",
    "    \"\"\"\n",
    "\n",
    "\n",
    "    benefit_type = data.get(\"benefit_type\", \"other\")\n",
    "    value = data.get(\"benefit_value\", 0)\n",
    "    liability = data.get(\"liability_test\", False)\n",
    "    convertibility = data.get(\"convertibility_test\", False)\n",
    "\n",
    "    if liability or convertibility:\n",
    "        return {\n",
    "            \"taxable\": True,\n",
    "            \"taxable_amount\": value,\n",
    "            \"reason\": f\"Fringe benefit '{benefit_type}' is taxable because it satisfies the {'liability' if liability else 'convertibility'} test.\"\n",
    "        }\n",
    "\n",
    "    return {\n",
    "        \"taxable\": False,\n",
    "        \"taxable_amount\": 0,\n",
    "        \"reason\": f\"Fringe benefit '{benefit_type}' does not satisfy either tax test – not taxable.\"\n",
    "    }\n"
   ]
  },
  {
   "cell_type": "code",
   "execution_count": 31,
   "id": "f39d13f2",
   "metadata": {},
   "outputs": [
    {
     "data": {
      "text/plain": [
       "{'taxable': True,\n",
       " 'taxable_amount': 30000,\n",
       " 'reason': \"Fringe benefit 'education' is taxable because it satisfies the liability test.\"}"
      ]
     },
     "execution_count": 31,
     "metadata": {},
     "output_type": "execute_result"
    }
   ],
   "source": [
    "benefit_data = {\n",
    "    \"benefit_type\": \"education\",\n",
    "    \"benefit_value\": 30000,\n",
    "    \"liability_test\": True,\n",
    "    \"convertibility_test\": False\n",
    "}\n",
    "\n",
    "assess_fringe_benefit(benefit_data)\n"
   ]
  },
  {
   "cell_type": "markdown",
   "id": "155708e7",
   "metadata": {},
   "source": [
    "08"
   ]
  },
  {
   "cell_type": "markdown",
   "id": "9b4d074e",
   "metadata": {},
   "source": [
    "#hangeable Fields (in `non_taxable_data`):\n",
    "- `income_type`: e.g. \"retirement_scheme\", \"maintenance\", \"gift\"\n",
    "- `amount`: float"
   ]
  },
  {
   "cell_type": "code",
   "execution_count": 32,
   "id": "550e6cff",
   "metadata": {},
   "outputs": [],
   "source": [
    "def check_non_taxable_income(data: dict) -> dict:\n",
    "    \"\"\"\n",
    "    判断是否属于 Section 8(2) 下免税收入。\n",
    "    \"\"\"\n",
    "\n",
    "    income_type = data.get(\"income_type\", \"\").lower()\n",
    "    amount = data.get(\"amount\", 0)\n",
    "\n",
    "    exempt_types = {\n",
    "        \"maintenance\",           \n",
    "        \"retirement_scheme\",    \n",
    "        \"gift\",                  \n",
    "        \"scholarship\",          \n",
    "        \"inheritance\"            \n",
    "    }\n",
    "\n",
    "    if income_type in exempt_types:\n",
    "        return {\n",
    "            \"taxable\": False,\n",
    "            \"taxable_amount\": 0,\n",
    "            \"reason\": f\"{income_type.title()} is exempt under Section 8(2) or not within salaries tax scope.\"\n",
    "        }\n",
    "\n",
    "    return {\n",
    "        \"taxable\": True,\n",
    "        \"taxable_amount\": amount,\n",
    "        \"reason\": f\"{income_type.title()} is not specifically exempt – considered taxable unless further analysis applies.\"\n",
    "    }\n"
   ]
  },
  {
   "cell_type": "code",
   "execution_count": 33,
   "id": "39202e95",
   "metadata": {},
   "outputs": [
    {
     "data": {
      "text/plain": [
       "{'taxable': False,\n",
       " 'taxable_amount': 0,\n",
       " 'reason': 'Inheritance is exempt under Section 8(2) or not within salaries tax scope.'}"
      ]
     },
     "execution_count": 33,
     "metadata": {},
     "output_type": "execute_result"
    }
   ],
   "source": [
    "non_taxable_data = {\n",
    "    \"income_type\": \"inheritance\",\n",
    "    \"amount\": 200000\n",
    "}\n",
    "\n",
    "check_non_taxable_income(non_taxable_data)\n"
   ]
  },
  {
   "cell_type": "markdown",
   "id": "a4aa2fd7",
   "metadata": {},
   "source": [
    "#Chapter10\n",
    "01"
   ]
  },
  {
   "cell_type": "markdown",
   "id": "a61ccbb9",
   "metadata": {},
   "source": [
    "#Changeable_Fields (in `general_deduction_data`):\n",
    "- `expenditure_amount`: float – actual amount spent\n",
    "- `is_necessary`: True / False – whether required to earn income\n",
    "- `is_reimbursed`: True / False – whether paid back by employer\n",
    "- `is_depreciable_item`: True / False – e.g. tools, equipment\n",
    "- `depreciation_rate`: float – only used if depreciable, default 20%"
   ]
  },
  {
   "cell_type": "code",
   "execution_count": 34,
   "id": "3ba73be4",
   "metadata": {},
   "outputs": [],
   "source": [
    "def calculate_general_deduction(data: dict) -> dict:\n",
    "    \"\"\"\n",
    "    Determine whether general expenses are deductible.\n",
    "    \"\"\"\n",
    "\n",
    "\n",
    "    amount = data.get(\"expenditure_amount\", 0)\n",
    "    necessary = data.get(\"is_necessary\", False)\n",
    "    reimbursed = data.get(\"is_reimbursed\", False)\n",
    "    depreciable = data.get(\"is_depreciable_item\", False)\n",
    "    rate = data.get(\"depreciation_rate\", 0.2)\n",
    "\n",
    "    if not depreciable:\n",
    "        if necessary and not reimbursed:\n",
    "            return {\n",
    "                \"deductible\": True,\n",
    "                \"deduction_amount\": amount,\n",
    "                \"reason\": \"Necessary expenditure incurred in producing income, not reimbursed by employer (S12(1)(a)).\"\n",
    "            }\n",
    "        else:\n",
    "            return {\n",
    "                \"deductible\": False,\n",
    "                \"deduction_amount\": 0,\n",
    "                \"reason\": \"Expenditure is either not necessary or reimbursed – not deductible.\"\n",
    "            }\n",
    "\n",
    "    depreciation = round(amount * rate, 2)\n",
    "    if necessary and not reimbursed:\n",
    "        return {\n",
    "            \"deductible\": True,\n",
    "            \"deduction_amount\": depreciation,\n",
    "            \"reason\": f\"Depreciation on income-generating asset allowed at {rate*100:.0f}% rate under S12(1)(b).\"\n",
    "        }\n",
    "    else:\n",
    "        return {\n",
    "            \"deductible\": False,\n",
    "            \"deduction_amount\": 0,\n",
    "            \"reason\": \"Depreciable asset not used for income generation or was reimbursed.\"\n",
    "        }\n"
   ]
  },
  {
   "cell_type": "code",
   "execution_count": 35,
   "id": "90502638",
   "metadata": {},
   "outputs": [
    {
     "data": {
      "text/plain": [
       "{'deductible': True,\n",
       " 'deduction_amount': 4000.0,\n",
       " 'reason': 'Depreciation on income-generating asset allowed at 20% rate under S12(1)(b).'}"
      ]
     },
     "execution_count": 35,
     "metadata": {},
     "output_type": "execute_result"
    }
   ],
   "source": [
    "general_deduction_data = {\n",
    "    \"expenditure_amount\": 20000,\n",
    "    \"is_necessary\": True,\n",
    "    \"is_reimbursed\": False,\n",
    "    \"is_depreciable_item\": True,\n",
    "    \"depreciation_rate\": 0.2\n",
    "}\n",
    "\n",
    "calculate_general_deduction(general_deduction_data)\n"
   ]
  },
  {
   "cell_type": "markdown",
   "id": "a03db916",
   "metadata": {},
   "source": [
    "02-08"
   ]
  },
  {
   "cell_type": "code",
   "execution_count": 36,
   "id": "d9a2bf7d",
   "metadata": {},
   "outputs": [],
   "source": [
    "def cap_deduction(amount, cap, reason_text):\n",
    "    return {\n",
    "        \"deductible\": True,\n",
    "        \"deduction_amount\": min(amount, cap),\n",
    "        \"reason\": f\"{reason_text} (Capped at HKD {cap})\"\n",
    "    }"
   ]
  },
  {
   "cell_type": "code",
   "execution_count": 37,
   "id": "1df1f685",
   "metadata": {},
   "outputs": [],
   "source": [
    "def assess_self_education_deduction(data: dict) -> dict:\n",
    "    amount = data.get(\"amount\", 0)\n",
    "    is_qualified = data.get(\"is_qualified_course\", True)\n",
    "\n",
    "    if not is_qualified:\n",
    "        return {\n",
    "            \"deductible\": False,\n",
    "            \"deduction_amount\": 0,\n",
    "            \"reason\": \"Not a qualified course under Section 12(1)(e).\"\n",
    "        }\n",
    "\n",
    "    return cap_deduction(amount, 100000, \"Qualified self-education expenses deductible\")\n"
   ]
  },
  {
   "cell_type": "code",
   "execution_count": 38,
   "id": "5cc26e68",
   "metadata": {},
   "outputs": [],
   "source": [
    "def assess_charity_donation_deduction(data: dict) -> dict:\n",
    "    amount = data.get(\"amount\", 0)\n",
    "    assessable_income = data.get(\"assessable_income\", 0)\n",
    "    is_approved_charity = data.get(\"is_approved_charity\", True)\n",
    "\n",
    "    if not is_approved_charity:\n",
    "        return {\n",
    "            \"deductible\": False,\n",
    "            \"deduction_amount\": 0,\n",
    "            \"reason\": \"Donation not made to an approved charitable institution (S26C).\"\n",
    "        }\n",
    "\n",
    "    cap = round(assessable_income * 0.35, 2)\n",
    "    return cap_deduction(amount, cap, f\"Charitable donation deductible up to 35% of assessable income ({cap})\")\n"
   ]
  },
  {
   "cell_type": "code",
   "execution_count": 39,
   "id": "be4d7727",
   "metadata": {},
   "outputs": [],
   "source": [
    "def assess_elderly_care_deduction(data: dict) -> dict:\n",
    "    amount = data.get(\"amount\", 0)\n",
    "    is_parent_or_grandparent = data.get(\"is_parent_or_grandparent\", True)\n",
    "\n",
    "    if not is_parent_or_grandparent:\n",
    "        return {\n",
    "            \"deductible\": False,\n",
    "            \"deduction_amount\": 0,\n",
    "            \"reason\": \"Person being cared for is not a qualified relative under Section 26D.\"\n",
    "        }\n",
    "\n",
    "    return cap_deduction(amount, 100000, \"Elderly residential care expenses deductible\")\n"
   ]
  },
  {
   "cell_type": "code",
   "execution_count": 40,
   "id": "bb72d5b1",
   "metadata": {},
   "outputs": [],
   "source": [
    "def assess_ars_expense_deduction(data: dict) -> dict:\n",
    "    amount = data.get(\"amount\", 0)\n",
    "    is_qualified = data.get(\"is_qualified\", True)\n",
    "\n",
    "    if not is_qualified:\n",
    "        return {\n",
    "            \"deductible\": False,\n",
    "            \"deduction_amount\": 0,\n",
    "            \"reason\": \"ARS expense is not qualified under Inland Revenue Rules.\"\n",
    "        }\n",
    "\n",
    "    return {\n",
    "        \"deductible\": True,\n",
    "        \"deduction_amount\": min(amount, 100000),\n",
    "        \"reason\": f\"ARS expense deductible (capped at 100000). Claimed: {min(amount, 100000)}\"\n",
    "    }\n"
   ]
  },
  {
   "cell_type": "code",
   "execution_count": 41,
   "id": "8517c37e",
   "metadata": {},
   "outputs": [],
   "source": [
    "def assess_home_loan_interest_deduction(data: dict) -> dict:\n",
    "    amount = data.get(\"amount\", 0)\n",
    "    is_principal_residence = data.get(\"is_principal_residence\", True)\n",
    "\n",
    "    if not is_principal_residence:\n",
    "        return {\n",
    "            \"deductible\": False,\n",
    "            \"deduction_amount\": 0,\n",
    "            \"reason\": \"Loan interest not related to principal residence – not deductible.\"\n",
    "        }\n",
    "\n",
    "    return cap_deduction(amount, 100000, \"Home loan interest deductible\")\n"
   ]
  },
  {
   "cell_type": "code",
   "execution_count": 42,
   "id": "580747f5",
   "metadata": {},
   "outputs": [],
   "source": [
    "def assess_retirement_contribution_deduction(data: dict) -> dict:\n",
    "    amount = data.get(\"amount\", 0)\n",
    "    is_mpf = data.get(\"is_mpf\", True)\n",
    "\n",
    "    if not is_mpf:\n",
    "        return {\n",
    "            \"deductible\": False,\n",
    "            \"deduction_amount\": 0,\n",
    "            \"reason\": \"Contribution is not to a recognized MPF / ORSO scheme.\"\n",
    "        }\n",
    "\n",
    "    return cap_deduction(amount, 18000, \"Mandatory retirement contribution deductible\")\n"
   ]
  },
  {
   "cell_type": "code",
   "execution_count": 43,
   "id": "23ac157f",
   "metadata": {},
   "outputs": [],
   "source": [
    "def assess_annuity_and_mpf_deduction(data: dict) -> dict:\n",
    "    annuity = data.get(\"annuity_amount\", 0)\n",
    "    voluntary_mpf = data.get(\"voluntary_mpf_amount\", 0)\n",
    "    total = annuity + voluntary_mpf\n",
    "\n",
    "    return cap_deduction(total, 60000, \"Annuity premium + voluntary MPF deductible (combined cap)\")\n"
   ]
  },
  {
   "cell_type": "code",
   "execution_count": 44,
   "id": "69930329",
   "metadata": {},
   "outputs": [],
   "source": [
    "def assess_domestic_rent_deduction(data: dict) -> dict:\n",
    "    amount = data.get(\"amount\", 0)\n",
    "    has_valid_lease = data.get(\"has_valid_lease\", True)\n",
    "    is_also_claiming_home_loan = data.get(\"is_also_claiming_home_loan\", False)\n",
    "\n",
    "    if not has_valid_lease:\n",
    "        return {\n",
    "            \"deductible\": False,\n",
    "            \"deduction_amount\": 0,\n",
    "            \"reason\": \"No valid tenancy agreement – rent deduction not allowed.\"\n",
    "        }\n",
    "\n",
    "    if is_also_claiming_home_loan:\n",
    "        return {\n",
    "            \"deductible\": False,\n",
    "            \"deduction_amount\": 0,\n",
    "            \"reason\": \"Cannot claim rent deduction and home loan interest in the same year.\"\n",
    "        }\n",
    "\n",
    "    return cap_deduction(amount, 100000, \"Domestic rent deductible under Section 26V\")\n"
   ]
  },
  {
   "cell_type": "code",
   "execution_count": 45,
   "id": "7e6e52f9",
   "metadata": {},
   "outputs": [
    {
     "data": {
      "text/plain": [
       "{'deductible': True,\n",
       " 'deduction_amount': 60000,\n",
       " 'reason': 'Annuity premium + voluntary MPF deductible (combined cap)'}"
      ]
     },
     "execution_count": 45,
     "metadata": {},
     "output_type": "execute_result"
    }
   ],
   "source": [
    "{\n",
    "    'deductible': True,\n",
    "    'deduction_amount': 60000,\n",
    "    'reason': 'Annuity premium + voluntary MPF deductible (combined cap)'\n",
    "}\n"
   ]
  },
  {
   "cell_type": "code",
   "execution_count": 46,
   "id": "59a3b2ac",
   "metadata": {},
   "outputs": [],
   "source": [
    "def calculate_total_deductions(data: dict) -> dict:\n",
    "    results = {}\n",
    "    total = 0\n",
    "\n",
    "    edu = assess_self_education_deduction(data.get(\"self_education\", {}))\n",
    "    results[\"self_education\"] = edu\n",
    "    total += edu[\"deduction_amount\"]\n",
    "\n",
    "    ars = assess_ars_expense_deduction(data.get(\"ars_expense\", {}))\n",
    "    results[\"ars_expense\"] = ars\n",
    "    total += ars[\"deduction_amount\"]\n",
    "\n",
    "    mpf = assess_retirement_contribution_deduction(data.get(\"retirement\", {}))\n",
    "    results[\"retirement\"] = mpf\n",
    "    total += mpf[\"deduction_amount\"]\n",
    "\n",
    "    return {\n",
    "        \"total_deduction\": total,\n",
    "        \"details\": results\n",
    "    }\n"
   ]
  },
  {
   "cell_type": "markdown",
   "id": "4379b5b9",
   "metadata": {},
   "source": [
    "#Chapter11\n",
    "1-9"
   ]
  },
  {
   "cell_type": "code",
   "execution_count": 47,
   "id": "483e4e43",
   "metadata": {},
   "outputs": [],
   "source": [
    "ALLOWANCES = {\n",
    "    \"basic\": 132000,\n",
    "    \"married\": 264000,\n",
    "    \"child\": 120000,\n",
    "    \"newborn_additional\": 130000,\n",
    "    \"dependent_parent\": 50000,\n",
    "    \"co_resident_additional\": 10000,\n",
    "    \"single_parent\": 132000,\n",
    "    \"disabled_dependant\": 75000,\n",
    "    \"personal_disability\": 75000,\n",
    "    \"dependent_sibling\": 37500\n",
    "}\n"
   ]
  },
  {
   "cell_type": "code",
   "execution_count": 48,
   "id": "6b752f9a",
   "metadata": {},
   "outputs": [],
   "source": [
    "def assess_basic_allowance(data: dict) -> dict:\n",
    "    if data.get(\"is_single\", True):\n",
    "        return {\"granted\": True, \"amount\": ALLOWANCES[\"basic\"], \"reason\": \"Basic allowance granted.\"}\n",
    "    return {\"granted\": False, \"amount\": 0, \"reason\": \"Not single.\"}\n",
    "\n",
    "def assess_married_allowance(data: dict) -> dict:\n",
    "    if data.get(\"is_married\", False) and data.get(\"elect_joint_assessment\", True):\n",
    "        return {\"granted\": True, \"amount\": ALLOWANCES[\"married\"], \"reason\": \"Married person’s allowance granted.\"}\n",
    "    return {\"granted\": False, \"amount\": 0, \"reason\": \"Not eligible for married person’s allowance.\"}\n",
    "\n",
    "def assess_single_parent_allowance(data: dict) -> dict:\n",
    "    if data.get(\"is_single_parent\", False):\n",
    "        return {\"granted\": True, \"amount\": ALLOWANCES[\"single_parent\"], \"reason\": \"Single parent allowance granted.\"}\n",
    "    return {\"granted\": False, \"amount\": 0, \"reason\": \"Not eligible for single parent allowance.\"}\n",
    "\n",
    "def assess_child_allowance(data: dict) -> dict:\n",
    "    n = data.get(\"num_children\", 0)\n",
    "    nb = data.get(\"num_newborn\", 0)\n",
    "    total = n * ALLOWANCES[\"child\"] + nb * ALLOWANCES[\"newborn_additional\"]\n",
    "    return {\"granted\": n > 0, \"amount\": total, \"reason\": f\"{n} child(ren), {nb} newborn(s) – total calculated.\"}\n",
    "\n",
    "def assess_dependent_parent_allowance(data: dict) -> dict:\n",
    "    n = data.get(\"num_parents\", 0)\n",
    "    c = data.get(\"num_co_resident\", 0)\n",
    "    base = n * ALLOWANCES[\"dependent_parent\"]\n",
    "    extra = c * ALLOWANCES[\"co_resident_additional\"]\n",
    "    return {\"granted\": n > 0, \"amount\": base + extra, \"reason\": f\"{n} parent(s), {c} co-residing.\"}\n",
    "\n",
    "def assess_dependent_grandparent_allowance(data: dict) -> dict:\n",
    "    n = data.get(\"num_grandparents\", 0)\n",
    "    c = data.get(\"num_co_resident\", 0)\n",
    "    base = n * ALLOWANCES[\"dependent_parent\"]\n",
    "    extra = c * ALLOWANCES[\"co_resident_additional\"]\n",
    "    return {\"granted\": n > 0, \"amount\": base + extra, \"reason\": f\"{n} grandparent(s), {c} co-residing.\"}\n",
    "\n",
    "def assess_dependent_sibling_allowance(data: dict) -> dict:\n",
    "    n = data.get(\"num_siblings\", 0)\n",
    "    return {\"granted\": n > 0, \"amount\": n * ALLOWANCES[\"dependent_sibling\"], \"reason\": f\"{n} dependent sibling(s).\"}\n",
    "\n",
    "def assess_disabled_dependant_allowance(data: dict) -> dict:\n",
    "    n = data.get(\"num_disabled_dependants\", 0)\n",
    "    return {\"granted\": n > 0, \"amount\": n * ALLOWANCES[\"disabled_dependant\"], \"reason\": f\"{n} disabled dependant(s).\"}\n",
    "\n",
    "def assess_personal_disability_allowance(data: dict) -> dict:\n",
    "    if data.get(\"is_disabled\", False):\n",
    "        return {\"granted\": True, \"amount\": ALLOWANCES[\"personal_disability\"], \"reason\": \"Personal disability granted.\"}\n",
    "    return {\"granted\": False, \"amount\": 0, \"reason\": \"Not eligible.\"}\n"
   ]
  },
  {
   "cell_type": "code",
   "execution_count": 49,
   "id": "e2980cf7",
   "metadata": {},
   "outputs": [],
   "source": [
    "def calculate_total_allowances(data: dict) -> dict:\n",
    "    results = {}\n",
    "    total = 0\n",
    "\n",
    "    basic = assess_basic_allowance(data)\n",
    "    married = assess_married_allowance(data)\n",
    "    single = assess_single_parent_allowance(data)\n",
    "    child = assess_child_allowance(data)\n",
    "    parent = assess_dependent_parent_allowance(data)\n",
    "    grandparent = assess_dependent_grandparent_allowance(data)\n",
    "    sibling = assess_dependent_sibling_allowance(data)\n",
    "    disabled_dep = assess_disabled_dependant_allowance(data)\n",
    "    personal_dis = assess_personal_disability_allowance(data)\n",
    "\n",
    "    if basic[\"granted\"] and married[\"granted\"]:\n",
    "        basic[\"granted\"] = False\n",
    "        basic[\"amount\"] = 0\n",
    "        basic[\"reason\"] = \"Excluded due to married person’s allowance.\"\n",
    "\n",
    "    if married[\"granted\"] and single[\"granted\"]:\n",
    "        single[\"granted\"] = False\n",
    "        single[\"amount\"] = 0\n",
    "        single[\"reason\"] = \"Single parent allowance not allowed with married status.\"\n",
    "\n",
    "    results[\"basic\"] = basic\n",
    "    results[\"married\"] = married\n",
    "    results[\"single_parent\"] = single\n",
    "    results[\"child\"] = child\n",
    "    results[\"dependent_parent\"] = parent\n",
    "    results[\"dependent_grandparent\"] = grandparent\n",
    "    results[\"dependent_sibling\"] = sibling\n",
    "    results[\"disabled_dependant\"] = disabled_dep\n",
    "    results[\"personal_disability\"] = personal_dis\n",
    "\n",
    "    for module in results.values():\n",
    "        total += module[\"amount\"]\n",
    "\n",
    "    return {\"total_allowance\": total, \"details\": results}\n"
   ]
  },
  {
   "cell_type": "markdown",
   "id": "e4e069b4",
   "metadata": {},
   "source": [
    "#supplement_01\n",
    "NRV&Rateable value"
   ]
  },
  {
   "cell_type": "code",
   "execution_count": 50,
   "id": "a13595d3",
   "metadata": {},
   "outputs": [],
   "source": [
    "def assess_housing_benefit(data: dict) -> dict:\n",
    "    \"\"\"\n",
    "    Assess taxable housing benefit using the lower of Notional Rental Value (NRV) and Rateable Value,\n",
    "    and deduct any rent suffered by the employee.\n",
    "\n",
    "    Parameters:\n",
    "    - income: annual income relevant to housing benefit\n",
    "    - nrv_ratio: typically 0.1 (10%), 0.08 or 0.04 depending on housing type\n",
    "    - rent_suffered: any rent paid by the employee\n",
    "    - rateable_value: official rateable value if applicable (optional)\n",
    "\n",
    "    Returns:\n",
    "    - taxable_amount: amount to be taxed as housing benefit\n",
    "    - reason: explanation for how value was selected\n",
    "    \"\"\"\n",
    "    income = data.get(\"income\", 0)\n",
    "    nrv_ratio = data.get(\"nrv_ratio\", 0.1)\n",
    "    rent_paid = data.get(\"rent_suffered\", 0)\n",
    "    rateable_value = data.get(\"rateable_value\", None)\n",
    "\n",
    "    nrv = income * nrv_ratio\n",
    "    selected_value = min(nrv, rateable_value) if rateable_value else nrv\n",
    "    taxable_value = max(selected_value - rent_paid, 0)\n",
    "\n",
    "    reason = (\n",
    "        f\"Taxable = min(NRV {nrv}, Rateable {rateable_value}) - rent paid {rent_paid}\"\n",
    "        if rateable_value\n",
    "        else f\"Taxable = NRV {nrv} - rent paid {rent_paid} (no rateable value provided)\"\n",
    "    )\n",
    "\n",
    "    return {\n",
    "        \"taxable\": True,\n",
    "        \"taxable_amount\": round(taxable_value, 2),\n",
    "        \"reason\": reason\n",
    "    }\n"
   ]
  },
  {
   "cell_type": "markdown",
   "id": "a6926d05",
   "metadata": {},
   "source": [
    "#supplement_02\n",
    "PRC183DAYS"
   ]
  },
  {
   "cell_type": "code",
   "execution_count": 52,
   "id": "22d5f53c",
   "metadata": {},
   "outputs": [],
   "source": [
    "def assess_prc_183_day_exemption(data: dict) -> dict:\n",
    "    \"\"\"\n",
    "    Determine whether income from PRC-sourced employment is exempt under 183-day rule\n",
    "    in a DTA context, such as for PRC-based employment with limited presence in Hong Kong.\n",
    "\n",
    "    Required fields in data:\n",
    "    - is_prc_employment: True/False\n",
    "    - days_in_hk: number of days present in Hong Kong in the year of assessment\n",
    "    - paid_by_non_hk_employer: True/False\n",
    "    - borne_by_non_hk_entity: True/False\n",
    "    - prc_tax_paid: True/False\n",
    "\n",
    "    Returns:\n",
    "    - exempt: True/False\n",
    "    - reason: explanatory string\n",
    "    \"\"\"\n",
    "    if not data.get(\"is_prc_employment\", False):\n",
    "        return {\n",
    "            \"exempt\": False,\n",
    "            \"reason\": \"Employment is not sourced in the PRC; rule not applicable.\"\n",
    "        }\n",
    "\n",
    "    days = data.get(\"days_in_hk\", 0)\n",
    "    paid_by_non_hk = data.get(\"paid_by_non_hk_employer\", False)\n",
    "    cost_not_borne_in_hk = data.get(\"borne_by_non_hk_entity\", False)\n",
    "    prc_tax_paid = data.get(\"prc_tax_paid\", False)\n",
    "\n",
    "    if days <= 183 and paid_by_non_hk and cost_not_borne_in_hk and prc_tax_paid:\n",
    "        return {\n",
    "            \"exempt\": True,\n",
    "            \"reason\": \"Exempt under DTA 183-day rule: <183 days, non-HK employer, cost not borne in HK, and PRC tax paid.\"\n",
    "        }\n",
    "\n",
    "    return {\n",
    "        \"exempt\": False,\n",
    "        \"reason\": \"One or more exemption conditions not met under DTA 183-day rule.\"\n",
    "    }\n"
   ]
  },
  {
   "cell_type": "markdown",
   "id": "a9196911",
   "metadata": {},
   "source": [
    "#supplement_03\n",
    "TVC+QDAP"
   ]
  },
  {
   "cell_type": "code",
   "execution_count": 54,
   "id": "a954b25e",
   "metadata": {},
   "outputs": [],
   "source": [
    "MAX_RETIREMENT_QUOTA = 60000  # TVC + QDAP 合并上限\n",
    "\n",
    "def assess_retirement_products_deduction(data: dict) -> dict:\n",
    "    \"\"\"\n",
    "    Assess total deductible amount for QDAP and TVC contributions under the combined cap of HK$60,000.\n",
    "\n",
    "    Expected input format:\n",
    "    {\n",
    "        \"qdap\": {\"amount\": ..., \"is_qualified\": True/False},\n",
    "        \"tvc\": {\"amount\": ..., \"is_qualified\": True/False}\n",
    "    }\n",
    "\n",
    "    Returns:\n",
    "    {\n",
    "        \"qdap\": {\"deductible\": True/False, \"deduction_amount\": ..., \"reason\": ...},\n",
    "        \"tvc\":  {\"deductible\": True/False, \"deduction_amount\": ..., \"reason\": ...},\n",
    "        \"total_deduction\": ...\n",
    "    }\n",
    "    \"\"\"\n",
    "    qdap_data = data.get(\"qdap\", {})\n",
    "    tvc_data = data.get(\"tvc\", {})\n",
    "\n",
    "    qdap_amt = qdap_data.get(\"amount\", 0) if qdap_data.get(\"is_qualified\", False) else 0\n",
    "    tvc_amt = tvc_data.get(\"amount\", 0) if tvc_data.get(\"is_qualified\", False) else 0\n",
    "\n",
    "    used_quota = 0\n",
    "    qdap_used = min(qdap_amt, MAX_RETIREMENT_QUOTA)\n",
    "    used_quota += qdap_used\n",
    "    remaining = MAX_RETIREMENT_QUOTA - used_quota\n",
    "    tvc_used = min(tvc_amt, remaining)\n",
    "\n",
    "    result = {\n",
    "        \"qdap\": {\n",
    "            \"deductible\": qdap_used > 0,\n",
    "            \"deduction_amount\": qdap_used,\n",
    "            \"reason\": f\"QDAP deduction allowed up to {qdap_used} (combined cap: 60,000)\"\n",
    "        },\n",
    "        \"tvc\": {\n",
    "            \"deductible\": tvc_used > 0,\n",
    "            \"deduction_amount\": tvc_used,\n",
    "            \"reason\": f\"TVC deduction allowed up to {tvc_used} (remaining cap after QDAP)\"\n",
    "        },\n",
    "        \"total_deduction\": qdap_used + tvc_used\n",
    "    }\n",
    "    return result\n"
   ]
  },
  {
   "cell_type": "markdown",
   "id": "851d1620",
   "metadata": {},
   "source": [
    "#supplement04\n",
    "depreciation"
   ]
  },
  {
   "cell_type": "code",
   "execution_count": 55,
   "id": "ed60f27b",
   "metadata": {},
   "outputs": [],
   "source": [
    "def assess_depreciation_allowance(data: dict) -> dict:\n",
    "    \"\"\"\n",
    "    Assess depreciation allowance for capital expenditure on plant/machinery essential to earning income.\n",
    "\n",
    "    Expected input format:\n",
    "    {\n",
    "        \"items\": [\n",
    "            {\"description\": \"Laptop\", \"cost\": 12000, \"rate\": 0.2, \"business_use_ratio\": 1.0},\n",
    "            {\"description\": \"Vehicle\", \"cost\": 100000, \"rate\": 0.3, \"business_use_ratio\": 0.5}\n",
    "        ]\n",
    "    }\n",
    "\n",
    "    Returns:\n",
    "    {\n",
    "        \"deductible\": True/False,\n",
    "        \"deduction_amount\": float,\n",
    "        \"details\": [...],\n",
    "        \"reason\": \"Summary...\"\n",
    "    }\n",
    "    \"\"\"\n",
    "    items = data.get(\"items\", [])\n",
    "    total = 0\n",
    "    details = []\n",
    "\n",
    "    for item in items:\n",
    "        cost = item.get(\"cost\", 0)\n",
    "        rate = item.get(\"rate\", 0)\n",
    "        ratio = item.get(\"business_use_ratio\", 1.0)\n",
    "        desc = item.get(\"description\", \"Unnamed item\")\n",
    "\n",
    "        if cost <= 0 or rate <= 0 or ratio <= 0:\n",
    "            continue\n",
    "\n",
    "        allowance = cost * rate * ratio\n",
    "        total += allowance\n",
    "        details.append({\n",
    "            \"item\": desc,\n",
    "            \"cost\": cost,\n",
    "            \"rate\": rate,\n",
    "            \"business_use_ratio\": ratio,\n",
    "            \"deduction\": round(allowance, 2)\n",
    "        })\n",
    "\n",
    "    return {\n",
    "        \"deductible\": total > 0,\n",
    "        \"deduction_amount\": round(total, 2),\n",
    "        \"details\": details,\n",
    "        \"reason\": f\"Total depreciation deduction for {len(details)} item(s): {round(total, 2)}\"\n",
    "    }\n"
   ]
  },
  {
   "cell_type": "markdown",
   "id": "ede55576",
   "metadata": {},
   "source": [
    "#suppplement05\n",
    "brother&sister"
   ]
  },
  {
   "cell_type": "code",
   "execution_count": 56,
   "id": "49e6d59b",
   "metadata": {},
   "outputs": [],
   "source": [
    "def assess_dependent_sibling_allowance_with_conflict_check(data: dict) -> dict:\n",
    "    \"\"\"\n",
    "    Assess dependent sibling allowance while checking for conflict with disabled dependant allowance (DDA).\n",
    "\n",
    "    Expected input:\n",
    "    {\n",
    "        \"num_siblings\": 2,\n",
    "        \"disabled_sibling_indices\": [0],  # indexes of siblings already claimed under DDA\n",
    "        \"claimed_as_disabled_dependants\": 1  # total siblings also counted in DDA\n",
    "    }\n",
    "\n",
    "    Returns:\n",
    "    {\n",
    "        \"granted\": True/False,\n",
    "        \"amount\": int,\n",
    "        \"reason\": string\n",
    "    }\n",
    "    \"\"\"\n",
    "    ALLOWANCE_PER_SIBLING = 37500\n",
    "    total = data.get(\"num_siblings\", 0)\n",
    "    overlap = data.get(\"claimed_as_disabled_dependants\", 0)\n",
    "\n",
    "    conflict_count = min(total, overlap)\n",
    "    allowed_count = total - conflict_count\n",
    "    amount = allowed_count * ALLOWANCE_PER_SIBLING\n",
    "\n",
    "    reason = (\n",
    "        f\"{total} dependent sibling(s) declared, {conflict_count} conflict with DDA removed. \"\n",
    "        f\"{allowed_count} eligible for allowance.\"\n",
    "        if conflict_count > 0\n",
    "        else f\"All {total} sibling(s) eligible.\"\n",
    "    )\n",
    "\n",
    "    return {\n",
    "        \"granted\": allowed_count > 0,\n",
    "        \"amount\": amount,\n",
    "        \"reason\": reason\n",
    "    }\n"
   ]
  },
  {
   "cell_type": "markdown",
   "id": "08a14ae8",
   "metadata": {},
   "source": [
    "#supplement06\n",
    "search_table"
   ]
  },
  {
   "cell_type": "code",
   "execution_count": 58,
   "id": "137f4878",
   "metadata": {},
   "outputs": [],
   "source": [
    "# 减税表\n",
    "ONE_OFF_TAX_REBATE = {\n",
    "    2017: 20000,\n",
    "    2018: 20000,\n",
    "    2019: 20000,\n",
    "    2020: 20000,\n",
    "    2021: 10000,\n",
    "    2022: 10000,\n",
    "    2023: 6000,\n",
    "    2024: 1500\n",
    "}\n",
    "\n",
    "# 函数本体\n",
    "def apply_one_off_rebate(year: int, tax_payable: float) -> dict:\n",
    "    rebate_cap = ONE_OFF_TAX_REBATE.get(year, 0)\n",
    "    rebate = min(tax_payable, rebate_cap)\n",
    "    final = tax_payable - rebate\n",
    "\n",
    "    return {\n",
    "        \"rebate_applied\": round(rebate, 2),\n",
    "        \"final_tax\": round(final, 2),\n",
    "        \"reason\": f\"One-off tax rebate of ${rebate} applied (cap: ${rebate_cap}) for YOA {year}.\"\n",
    "        if rebate_cap > 0 else\n",
    "        f\"No one-off tax rebate available for YOA {year}.\"\n",
    "    }\n"
   ]
  },
  {
   "cell_type": "code",
   "execution_count": 59,
   "id": "e8c9c18e",
   "metadata": {},
   "outputs": [],
   "source": [
    "def calculate_total_income(income_items: list) -> dict:\n",
    "    \"\"\"\n",
    "    Aggregate all assessable income items using corresponding assess_xxx_income functions.\n",
    "\n",
    "    Each item in income_items should include:\n",
    "    - type: one of ['salary', 'bonus', 'housing', 'pension', 'stock_option', 'share_award', 'lump_sum']\n",
    "    - other fields required by the specific assess_xxx function\n",
    "\n",
    "    Returns:\n",
    "    {\n",
    "        \"total_income\": float,\n",
    "        \"details\": list of dicts per item\n",
    "    }\n",
    "    \"\"\"\n",
    "    total = 0\n",
    "    details = []\n",
    "\n",
    "    for item in income_items:\n",
    "        income_type = item.get(\"type\")\n",
    "        if income_type == \"salary\":\n",
    "            result = assess_salary_income(item)\n",
    "        elif income_type == \"bonus\":\n",
    "            result = assess_bonus_income(item)\n",
    "        elif income_type == \"housing\":\n",
    "            result = assess_housing_benefit(item)\n",
    "        elif income_type == \"pension\":\n",
    "            result = assess_pension_income(item)\n",
    "        elif income_type == \"stock_option\":\n",
    "            result = assess_stock_option_income(item)\n",
    "        elif income_type == \"share_award\":\n",
    "            result = assess_share_award_income(item)\n",
    "        elif income_type == \"lump_sum\":\n",
    "            result = assess_lump_sum_income(item)\n",
    "        elif income_type == \"fringe_benefit\":\n",
    "            result = assess_fringe_benefit(item)\n",
    "        else:\n",
    "            result = {\"taxable\": False, \"taxable_amount\": 0, \"reason\": f\"Unknown income type: {income_type}\"}\n",
    "\n",
    "        if result.get(\"taxable\", False):\n",
    "            total += result.get(\"taxable_amount\", 0)\n",
    "\n",
    "        result[\"type\"] = income_type\n",
    "        details.append(result)\n",
    "\n",
    "    return {\"total_income\": round(total, 2), \"details\": details}\n"
   ]
  },
  {
   "cell_type": "markdown",
   "id": "f606b05e",
   "metadata": {},
   "source": [
    "Final"
   ]
  },
  {
   "cell_type": "code",
   "execution_count": 60,
   "id": "b79e0486",
   "metadata": {},
   "outputs": [],
   "source": [
    "def calculate_final_salaries_tax(user_data: dict) -> dict:\n",
    "    \"\"\"\n",
    "    Main function to calculate final salaries tax payable for a taxpayer,\n",
    "    including total income, deductions, allowances, and one-off rebate.\n",
    "\n",
    "    Input: user_data = {\n",
    "        \"income_items\": [...],\n",
    "        \"deductions\": {...},\n",
    "        \"personal\": {...},\n",
    "        \"year_of_assessment\": int (e.g. 2024)\n",
    "    }\n",
    "\n",
    "    Returns: dict with breakdown and tax result\n",
    "    \"\"\"\n",
    "\n",
    "    # 1. 汇总收入\n",
    "    income_result = calculate_total_income(user_data.get(\"income_items\", []))\n",
    "    total_income = income_result[\"total_income\"]\n",
    "\n",
    "    # 2. 汇总扣除\n",
    "    deduction_result = calculate_total_deductions(user_data.get(\"deductions\", {}))\n",
    "    total_deductions = deduction_result[\"total_deduction\"]\n",
    "\n",
    "    # 3. 汇总免税额\n",
    "    allowance_result = calculate_total_allowances(user_data.get(\"personal\", {}))\n",
    "    total_allowances = allowance_result[\"total_allowance\"]\n",
    "\n",
    "    # 4. 计算净应课税收入\n",
    "    net_chargeable_income = max(0, total_income - total_deductions - total_allowances)\n",
    "\n",
    "    # 5. 累进税计算（2%、6%、10%、14%、17%）\n",
    "    brackets = [50000, 50000, 50000, 50000]\n",
    "    rates = [0.02, 0.06, 0.10, 0.14, 0.17]\n",
    "    remaining = net_chargeable_income\n",
    "    progressive_tax = 0\n",
    "\n",
    "    for i, b in enumerate(brackets):\n",
    "        step = min(b, remaining)\n",
    "        progressive_tax += step * rates[i]\n",
    "        remaining -= step\n",
    "        if remaining <= 0:\n",
    "            break\n",
    "    if remaining > 0:\n",
    "        progressive_tax += remaining * rates[-1]\n",
    "\n",
    "    # 6. 标准税（15%）\n",
    "    standard_tax = max(0, (total_income - total_deductions) * 0.15)\n",
    "\n",
    "    # 7. 选较低税额\n",
    "    final_tax = min(progressive_tax, standard_tax)\n",
    "    method = \"progressive\" if final_tax == progressive_tax else \"standard\"\n",
    "\n",
    "    # 8. 应用 one-off 减免（如有）\n",
    "    year = user_data.get(\"year_of_assessment\", 2024)\n",
    "    rebate_result = apply_one_off_rebate(year, final_tax)\n",
    "    final_tax_after_rebate = rebate_result[\"final_tax\"]\n",
    "\n",
    "    # 9. 输出结构\n",
    "    return {\n",
    "        \"total_income\": total_income,\n",
    "        \"total_deductions\": total_deductions,\n",
    "        \"total_allowances\": total_allowances,\n",
    "        \"net_chargeable_income\": net_chargeable_income,\n",
    "        \"tax_method_used\": method,\n",
    "        \"progressive_tax\": round(progressive_tax, 2),\n",
    "        \"standard_tax\": round(standard_tax, 2),\n",
    "        \"tax_before_rebate\": round(final_tax, 2),\n",
    "        \"final_tax_payable\": round(final_tax_after_rebate, 2),\n",
    "        \"one_off_rebate\": rebate_result,\n",
    "        \"breakdown\": {\n",
    "            \"income\": income_result[\"details\"],\n",
    "            \"deductions\": deduction_result[\"details\"],\n",
    "            \"allowances\": allowance_result[\"details\"]\n",
    "        }\n",
    "    }\n"
   ]
  },
  {
   "cell_type": "code",
   "execution_count": 61,
   "id": "b0d0e594",
   "metadata": {},
   "outputs": [
    {
     "ename": "NameError",
     "evalue": "name 'assess_salary_income' is not defined",
     "output_type": "error",
     "traceback": [
      "\u001b[1;31m---------------------------------------------------------------------------\u001b[0m",
      "\u001b[1;31mNameError\u001b[0m                                 Traceback (most recent call last)",
      "Cell \u001b[1;32mIn[61], line 1\u001b[0m\n\u001b[1;32m----> 1\u001b[0m result \u001b[38;5;241m=\u001b[39m \u001b[43mcalculate_final_salaries_tax\u001b[49m\u001b[43m(\u001b[49m\u001b[43m{\u001b[49m\n\u001b[0;32m      2\u001b[0m \u001b[43m    \u001b[49m\u001b[38;5;124;43m\"\u001b[39;49m\u001b[38;5;124;43mincome_items\u001b[39;49m\u001b[38;5;124;43m\"\u001b[39;49m\u001b[43m:\u001b[49m\u001b[43m \u001b[49m\u001b[43m[\u001b[49m\n\u001b[0;32m      3\u001b[0m \u001b[43m        \u001b[49m\u001b[43m{\u001b[49m\u001b[38;5;124;43m\"\u001b[39;49m\u001b[38;5;124;43mtype\u001b[39;49m\u001b[38;5;124;43m\"\u001b[39;49m\u001b[43m:\u001b[49m\u001b[43m \u001b[49m\u001b[38;5;124;43m\"\u001b[39;49m\u001b[38;5;124;43msalary\u001b[39;49m\u001b[38;5;124;43m\"\u001b[39;49m\u001b[43m,\u001b[49m\u001b[43m \u001b[49m\u001b[38;5;124;43m\"\u001b[39;49m\u001b[38;5;124;43mamount\u001b[39;49m\u001b[38;5;124;43m\"\u001b[39;49m\u001b[43m:\u001b[49m\u001b[43m \u001b[49m\u001b[38;5;241;43m500000\u001b[39;49m\u001b[43m}\u001b[49m\u001b[43m,\u001b[49m\n\u001b[0;32m      4\u001b[0m \u001b[43m        \u001b[49m\u001b[43m{\u001b[49m\u001b[38;5;124;43m\"\u001b[39;49m\u001b[38;5;124;43mtype\u001b[39;49m\u001b[38;5;124;43m\"\u001b[39;49m\u001b[43m:\u001b[49m\u001b[43m \u001b[49m\u001b[38;5;124;43m\"\u001b[39;49m\u001b[38;5;124;43mbonus\u001b[39;49m\u001b[38;5;124;43m\"\u001b[39;49m\u001b[43m,\u001b[49m\u001b[43m \u001b[49m\u001b[38;5;124;43m\"\u001b[39;49m\u001b[38;5;124;43mamount\u001b[39;49m\u001b[38;5;124;43m\"\u001b[39;49m\u001b[43m:\u001b[49m\u001b[43m \u001b[49m\u001b[38;5;241;43m50000\u001b[39;49m\u001b[43m}\u001b[49m\u001b[43m,\u001b[49m\n\u001b[0;32m      5\u001b[0m \u001b[43m        \u001b[49m\u001b[43m{\u001b[49m\u001b[38;5;124;43m\"\u001b[39;49m\u001b[38;5;124;43mtype\u001b[39;49m\u001b[38;5;124;43m\"\u001b[39;49m\u001b[43m:\u001b[49m\u001b[43m \u001b[49m\u001b[38;5;124;43m\"\u001b[39;49m\u001b[38;5;124;43mhousing\u001b[39;49m\u001b[38;5;124;43m\"\u001b[39;49m\u001b[43m,\u001b[49m\u001b[43m \u001b[49m\u001b[38;5;124;43m\"\u001b[39;49m\u001b[38;5;124;43mincome\u001b[39;49m\u001b[38;5;124;43m\"\u001b[39;49m\u001b[43m:\u001b[49m\u001b[43m \u001b[49m\u001b[38;5;241;43m500000\u001b[39;49m\u001b[43m,\u001b[49m\u001b[43m \u001b[49m\u001b[38;5;124;43m\"\u001b[39;49m\u001b[38;5;124;43mnrv_ratio\u001b[39;49m\u001b[38;5;124;43m\"\u001b[39;49m\u001b[43m:\u001b[49m\u001b[43m \u001b[49m\u001b[38;5;241;43m0.1\u001b[39;49m\u001b[43m,\u001b[49m\u001b[43m \u001b[49m\u001b[38;5;124;43m\"\u001b[39;49m\u001b[38;5;124;43mrent_suffered\u001b[39;49m\u001b[38;5;124;43m\"\u001b[39;49m\u001b[43m:\u001b[49m\u001b[43m \u001b[49m\u001b[38;5;241;43m20000\u001b[39;49m\u001b[43m,\u001b[49m\u001b[43m \u001b[49m\u001b[38;5;124;43m\"\u001b[39;49m\u001b[38;5;124;43mrateable_value\u001b[39;49m\u001b[38;5;124;43m\"\u001b[39;49m\u001b[43m:\u001b[49m\u001b[43m \u001b[49m\u001b[38;5;241;43m40000\u001b[39;49m\u001b[43m}\u001b[49m\n\u001b[0;32m      6\u001b[0m \u001b[43m    \u001b[49m\u001b[43m]\u001b[49m\u001b[43m,\u001b[49m\n\u001b[0;32m      7\u001b[0m \u001b[43m    \u001b[49m\u001b[38;5;124;43m\"\u001b[39;49m\u001b[38;5;124;43mdeductions\u001b[39;49m\u001b[38;5;124;43m\"\u001b[39;49m\u001b[43m:\u001b[49m\u001b[43m \u001b[49m\u001b[43m{\u001b[49m\n\u001b[0;32m      8\u001b[0m \u001b[43m        \u001b[49m\u001b[38;5;124;43m\"\u001b[39;49m\u001b[38;5;124;43mself_education\u001b[39;49m\u001b[38;5;124;43m\"\u001b[39;49m\u001b[43m:\u001b[49m\u001b[43m \u001b[49m\u001b[43m{\u001b[49m\u001b[38;5;124;43m\"\u001b[39;49m\u001b[38;5;124;43mamount\u001b[39;49m\u001b[38;5;124;43m\"\u001b[39;49m\u001b[43m:\u001b[49m\u001b[43m \u001b[49m\u001b[38;5;241;43m80000\u001b[39;49m\u001b[43m,\u001b[49m\u001b[43m \u001b[49m\u001b[38;5;124;43m\"\u001b[39;49m\u001b[38;5;124;43mis_qualified_course\u001b[39;49m\u001b[38;5;124;43m\"\u001b[39;49m\u001b[43m:\u001b[49m\u001b[43m \u001b[49m\u001b[38;5;28;43;01mTrue\u001b[39;49;00m\u001b[43m}\u001b[49m\u001b[43m,\u001b[49m\n\u001b[0;32m      9\u001b[0m \u001b[43m        \u001b[49m\u001b[38;5;124;43m\"\u001b[39;49m\u001b[38;5;124;43mretirement\u001b[39;49m\u001b[38;5;124;43m\"\u001b[39;49m\u001b[43m:\u001b[49m\u001b[43m \u001b[49m\u001b[43m{\u001b[49m\u001b[38;5;124;43m\"\u001b[39;49m\u001b[38;5;124;43mamount\u001b[39;49m\u001b[38;5;124;43m\"\u001b[39;49m\u001b[43m:\u001b[49m\u001b[43m \u001b[49m\u001b[38;5;241;43m18000\u001b[39;49m\u001b[43m,\u001b[49m\u001b[43m \u001b[49m\u001b[38;5;124;43m\"\u001b[39;49m\u001b[38;5;124;43mis_mpf\u001b[39;49m\u001b[38;5;124;43m\"\u001b[39;49m\u001b[43m:\u001b[49m\u001b[43m \u001b[49m\u001b[38;5;28;43;01mTrue\u001b[39;49;00m\u001b[43m}\u001b[49m\u001b[43m,\u001b[49m\n\u001b[0;32m     10\u001b[0m \u001b[43m        \u001b[49m\u001b[38;5;124;43m\"\u001b[39;49m\u001b[38;5;124;43mars_expense\u001b[39;49m\u001b[38;5;124;43m\"\u001b[39;49m\u001b[43m:\u001b[49m\u001b[43m \u001b[49m\u001b[43m{\u001b[49m\u001b[38;5;124;43m\"\u001b[39;49m\u001b[38;5;124;43mamount\u001b[39;49m\u001b[38;5;124;43m\"\u001b[39;49m\u001b[43m:\u001b[49m\u001b[43m \u001b[49m\u001b[38;5;241;43m90000\u001b[39;49m\u001b[43m,\u001b[49m\u001b[43m \u001b[49m\u001b[38;5;124;43m\"\u001b[39;49m\u001b[38;5;124;43mis_qualified\u001b[39;49m\u001b[38;5;124;43m\"\u001b[39;49m\u001b[43m:\u001b[49m\u001b[43m \u001b[49m\u001b[38;5;28;43;01mTrue\u001b[39;49;00m\u001b[43m}\u001b[49m\n\u001b[0;32m     11\u001b[0m \u001b[43m    \u001b[49m\u001b[43m}\u001b[49m\u001b[43m,\u001b[49m\n\u001b[0;32m     12\u001b[0m \u001b[43m    \u001b[49m\u001b[38;5;124;43m\"\u001b[39;49m\u001b[38;5;124;43mpersonal\u001b[39;49m\u001b[38;5;124;43m\"\u001b[39;49m\u001b[43m:\u001b[49m\u001b[43m \u001b[49m\u001b[43m{\u001b[49m\n\u001b[0;32m     13\u001b[0m \u001b[43m        \u001b[49m\u001b[38;5;124;43m\"\u001b[39;49m\u001b[38;5;124;43mis_married\u001b[39;49m\u001b[38;5;124;43m\"\u001b[39;49m\u001b[43m:\u001b[49m\u001b[43m \u001b[49m\u001b[38;5;28;43;01mFalse\u001b[39;49;00m\u001b[43m,\u001b[49m\n\u001b[0;32m     14\u001b[0m \u001b[43m        \u001b[49m\u001b[38;5;124;43m\"\u001b[39;49m\u001b[38;5;124;43mnum_children\u001b[39;49m\u001b[38;5;124;43m\"\u001b[39;49m\u001b[43m:\u001b[49m\u001b[43m \u001b[49m\u001b[38;5;241;43m0\u001b[39;49m\u001b[43m,\u001b[49m\n\u001b[0;32m     15\u001b[0m \u001b[43m        \u001b[49m\u001b[38;5;124;43m\"\u001b[39;49m\u001b[38;5;124;43mnum_parents\u001b[39;49m\u001b[38;5;124;43m\"\u001b[39;49m\u001b[43m:\u001b[49m\u001b[43m \u001b[49m\u001b[38;5;241;43m0\u001b[39;49m\u001b[43m,\u001b[49m\n\u001b[0;32m     16\u001b[0m \u001b[43m        \u001b[49m\u001b[38;5;124;43m\"\u001b[39;49m\u001b[38;5;124;43mis_disabled\u001b[39;49m\u001b[38;5;124;43m\"\u001b[39;49m\u001b[43m:\u001b[49m\u001b[43m \u001b[49m\u001b[38;5;28;43;01mFalse\u001b[39;49;00m\n\u001b[0;32m     17\u001b[0m \u001b[43m    \u001b[49m\u001b[43m}\u001b[49m\u001b[43m,\u001b[49m\n\u001b[0;32m     18\u001b[0m \u001b[43m    \u001b[49m\u001b[38;5;124;43m\"\u001b[39;49m\u001b[38;5;124;43myear_of_assessment\u001b[39;49m\u001b[38;5;124;43m\"\u001b[39;49m\u001b[43m:\u001b[49m\u001b[43m \u001b[49m\u001b[38;5;241;43m2024\u001b[39;49m\n\u001b[0;32m     19\u001b[0m \u001b[43m}\u001b[49m\u001b[43m)\u001b[49m\n",
      "Cell \u001b[1;32mIn[60], line 17\u001b[0m, in \u001b[0;36mcalculate_final_salaries_tax\u001b[1;34m(user_data)\u001b[0m\n\u001b[0;32m      2\u001b[0m \u001b[38;5;250m\u001b[39m\u001b[38;5;124;03m\"\"\"\u001b[39;00m\n\u001b[0;32m      3\u001b[0m \u001b[38;5;124;03mMain function to calculate final salaries tax payable for a taxpayer,\u001b[39;00m\n\u001b[0;32m      4\u001b[0m \u001b[38;5;124;03mincluding total income, deductions, allowances, and one-off rebate.\u001b[39;00m\n\u001b[1;32m   (...)\u001b[0m\n\u001b[0;32m     13\u001b[0m \u001b[38;5;124;03mReturns: dict with breakdown and tax result\u001b[39;00m\n\u001b[0;32m     14\u001b[0m \u001b[38;5;124;03m\"\"\"\u001b[39;00m\n\u001b[0;32m     16\u001b[0m \u001b[38;5;66;03m# 1. 汇总收入\u001b[39;00m\n\u001b[1;32m---> 17\u001b[0m income_result \u001b[38;5;241m=\u001b[39m \u001b[43mcalculate_total_income\u001b[49m\u001b[43m(\u001b[49m\u001b[43muser_data\u001b[49m\u001b[38;5;241;43m.\u001b[39;49m\u001b[43mget\u001b[49m\u001b[43m(\u001b[49m\u001b[38;5;124;43m\"\u001b[39;49m\u001b[38;5;124;43mincome_items\u001b[39;49m\u001b[38;5;124;43m\"\u001b[39;49m\u001b[43m,\u001b[49m\u001b[43m \u001b[49m\u001b[43m[\u001b[49m\u001b[43m]\u001b[49m\u001b[43m)\u001b[49m\u001b[43m)\u001b[49m\n\u001b[0;32m     18\u001b[0m total_income \u001b[38;5;241m=\u001b[39m income_result[\u001b[38;5;124m\"\u001b[39m\u001b[38;5;124mtotal_income\u001b[39m\u001b[38;5;124m\"\u001b[39m]\n\u001b[0;32m     20\u001b[0m \u001b[38;5;66;03m# 2. 汇总扣除\u001b[39;00m\n",
      "Cell \u001b[1;32mIn[59], line 21\u001b[0m, in \u001b[0;36mcalculate_total_income\u001b[1;34m(income_items)\u001b[0m\n\u001b[0;32m     19\u001b[0m income_type \u001b[38;5;241m=\u001b[39m item\u001b[38;5;241m.\u001b[39mget(\u001b[38;5;124m\"\u001b[39m\u001b[38;5;124mtype\u001b[39m\u001b[38;5;124m\"\u001b[39m)\n\u001b[0;32m     20\u001b[0m \u001b[38;5;28;01mif\u001b[39;00m income_type \u001b[38;5;241m==\u001b[39m \u001b[38;5;124m\"\u001b[39m\u001b[38;5;124msalary\u001b[39m\u001b[38;5;124m\"\u001b[39m:\n\u001b[1;32m---> 21\u001b[0m     result \u001b[38;5;241m=\u001b[39m \u001b[43massess_salary_income\u001b[49m(item)\n\u001b[0;32m     22\u001b[0m \u001b[38;5;28;01melif\u001b[39;00m income_type \u001b[38;5;241m==\u001b[39m \u001b[38;5;124m\"\u001b[39m\u001b[38;5;124mbonus\u001b[39m\u001b[38;5;124m\"\u001b[39m:\n\u001b[0;32m     23\u001b[0m     result \u001b[38;5;241m=\u001b[39m assess_bonus_income(item)\n",
      "\u001b[1;31mNameError\u001b[0m: name 'assess_salary_income' is not defined"
     ]
    }
   ],
   "source": [
    "result = calculate_final_salaries_tax({\n",
    "    \"income_items\": [\n",
    "        {\"type\": \"salary\", \"amount\": 500000},\n",
    "        {\"type\": \"bonus\", \"amount\": 50000},\n",
    "        {\"type\": \"housing\", \"income\": 500000, \"nrv_ratio\": 0.1, \"rent_suffered\": 20000, \"rateable_value\": 40000}\n",
    "    ],\n",
    "    \"deductions\": {\n",
    "        \"self_education\": {\"amount\": 80000, \"is_qualified_course\": True},\n",
    "        \"retirement\": {\"amount\": 18000, \"is_mpf\": True},\n",
    "        \"ars_expense\": {\"amount\": 90000, \"is_qualified\": True}\n",
    "    },\n",
    "    \"personal\": {\n",
    "        \"is_married\": False,\n",
    "        \"num_children\": 0,\n",
    "        \"num_parents\": 0,\n",
    "        \"is_disabled\": False\n",
    "    },\n",
    "    \"year_of_assessment\": 2024\n",
    "})\n"
   ]
  }
 ],
 "metadata": {
  "kernelspec": {
   "display_name": "Python 3",
   "language": "python",
   "name": "python3"
  },
  "language_info": {
   "codemirror_mode": {
    "name": "ipython",
    "version": 3
   },
   "file_extension": ".py",
   "mimetype": "text/x-python",
   "name": "python",
   "nbconvert_exporter": "python",
   "pygments_lexer": "ipython3",
   "version": "3.12.8"
  }
 },
 "nbformat": 4,
 "nbformat_minor": 5
}
